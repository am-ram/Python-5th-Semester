{
  "nbformat": 4,
  "nbformat_minor": 0,
  "metadata": {
    "colab": {
      "name": "20181CSE0621 Module 1 .ipynb",
      "provenance": [],
      "collapsed_sections": []
    },
    "kernelspec": {
      "name": "python3",
      "display_name": "Python 3"
    }
  },
  "cells": [
    {
      "cell_type": "markdown",
      "metadata": {
        "id": "aLh-lUf6_Aic"
      },
      "source": [
        "\n",
        "# Name : Sai Ram.K\n",
        "# ID   : 20181CSE0621\n",
        "# Course : Programming in Python\n",
        "---\n",
        "\n",
        "\n",
        "# MODULE 1\n",
        "\n",
        "*   Data types\n",
        "*   Operators and Expressions\n",
        "*   Input and Output Statements\n",
        "*   Control Structures \n",
        "*   Selective and Repetitive structures \n",
        "\n",
        "\n",
        "\n",
        "\n",
        "---\n",
        "\n",
        "\n",
        "\n",
        "\n",
        "\n"
      ]
    },
    {
      "cell_type": "code",
      "metadata": {
        "id": "pduXihscbMZI",
        "colab": {
          "base_uri": "https://localhost:8080/",
          "height": 34
        },
        "outputId": "c1a405e7-b577-48f6-9d28-ebdf0323e2da"
      },
      "source": [
        "print('hello')\n",
        "#print(\"let's go')"
      ],
      "execution_count": null,
      "outputs": [
        {
          "output_type": "stream",
          "text": [
            "hello\n"
          ],
          "name": "stdout"
        }
      ]
    },
    {
      "cell_type": "code",
      "metadata": {
        "id": "i2I29KarbgmP",
        "colab": {
          "base_uri": "https://localhost:8080/",
          "height": 34
        },
        "outputId": "4a3477ce-b0dd-4970-fc02-27aaa3604db1"
      },
      "source": [
        "#ord-> gives ASCII value of a letter/digit   ;  chr--> takes a ASCII input and prints the respective letter/digit\n",
        "a=ord('1')\n",
        "b=chr(65)\n",
        "c=ord('2')\n",
        "d=chr(97)\n",
        "print(a,b,c,d)"
      ],
      "execution_count": null,
      "outputs": [
        {
          "output_type": "stream",
          "text": [
            "49 A 50 a\n"
          ],
          "name": "stdout"
        }
      ]
    },
    {
      "cell_type": "code",
      "metadata": {
        "id": "4hIMjjZocSSb",
        "colab": {
          "base_uri": "https://localhost:8080/",
          "height": 84
        },
        "outputId": "e6b0555f-27d9-48ac-abaa-547e48f8642c"
      },
      "source": [
        "print(\"****\\n***\\n**\\n*\")\n"
      ],
      "execution_count": null,
      "outputs": [
        {
          "output_type": "stream",
          "text": [
            "****\n",
            "***\n",
            "**\n",
            "*\n"
          ],
          "name": "stdout"
        }
      ]
    },
    {
      "cell_type": "code",
      "metadata": {
        "id": "yE9k-iDMce2I",
        "colab": {
          "base_uri": "https://localhost:8080/",
          "height": 84
        },
        "outputId": "7163b5b8-0141-4b87-c16d-39fc1e6d864f"
      },
      "source": [
        "x=format('hello','<20')\n",
        "y=format('hello','>20')\n",
        "z=format('hello','^20')\n",
        "print(x,\"\\n\",y,\"\\n\",z)\n",
        "dob = 50 +40 - 30* 100 \\\n",
        "                  -25 +12 * 10 \\\n",
        "                   * 9\n",
        "print(dob)\n"
      ],
      "execution_count": null,
      "outputs": [
        {
          "output_type": "stream",
          "text": [
            "hello                \n",
            "                hello \n",
            "        hello        \n",
            "-1855\n"
          ],
          "name": "stdout"
        }
      ]
    },
    {
      "cell_type": "code",
      "metadata": {
        "id": "3vG0_CEqdWeS",
        "colab": {
          "base_uri": "https://localhost:8080/",
          "height": 34
        },
        "outputId": "e43261e2-31e7-4a0c-9bef-c924dc96b20f"
      },
      "source": [
        "x1,y1 = 10,20\n",
        "x2,y2 = 67,8 \n",
        "m,b = float(y1-y2)/(x1-x2), y1-float(y1-y2)/(x1-x2)*x1\n",
        "print (\"y=\",m,\"*x+\",b)\n"
      ],
      "execution_count": null,
      "outputs": [
        {
          "output_type": "stream",
          "text": [
            "y= -0.21052631578947367 *x+ 22.105263157894736\n"
          ],
          "name": "stdout"
        }
      ]
    },
    {
      "cell_type": "markdown",
      "metadata": {
        "id": "jYIxVHdIAIYZ"
      },
      "source": [
        "# Program 1\n",
        "Write a program to convert the given temperature in Fahrenheit to Celsius\n"
      ]
    },
    {
      "cell_type": "code",
      "metadata": {
        "id": "5FNFQS-qAO8b",
        "colab": {
          "base_uri": "https://localhost:8080/",
          "height": 50
        },
        "outputId": "b5938c4d-928f-40ce-c18e-51ee9a1f3989"
      },
      "source": [
        "f_reading = float(input(\"Enter temperature in farenheit:\"))\n",
        "c_reading = (f_reading - 32) * 5/9\n",
        "print(f_reading,\"F\",\" in celsius is \",c_reading,\"C\")"
      ],
      "execution_count": null,
      "outputs": [
        {
          "output_type": "stream",
          "text": [
            "Enter temperature in farenheit:98.6\n",
            "98.6 F  in celsius is  37.0 C\n"
          ],
          "name": "stdout"
        }
      ]
    },
    {
      "cell_type": "markdown",
      "metadata": {
        "id": "nTIMFKbQBE_o"
      },
      "source": [
        "# Program 2\n",
        "Read three numbers and print their sum"
      ]
    },
    {
      "cell_type": "code",
      "metadata": {
        "id": "Jrw92BmrAUii",
        "colab": {
          "base_uri": "https://localhost:8080/",
          "height": 118
        },
        "outputId": "769ec774-f08b-47fa-c3b2-5b461e52c3ed"
      },
      "source": [
        "# let the numbers be num1,num2 and num3\n",
        "print(\"Give me 3 numbers and I will tell you their sum\\n\")\n",
        "num1 = float(input(\"Enter first number:\"))\n",
        "num2 = float(input(\"Enter second number:\"))\n",
        "num3 = float(input(\"Enter third number:\"))\n",
        "print(\"Total = \",(num1 + num2 + num3))"
      ],
      "execution_count": null,
      "outputs": [
        {
          "output_type": "stream",
          "text": [
            "Give me 3 numbers and I will tell you their sum\n",
            "\n",
            "Enter first number:66\n",
            "Enter second number:22\n",
            "Enter third number:1\n",
            "Total =  89.0\n"
          ],
          "name": "stdout"
        }
      ]
    },
    {
      "cell_type": "markdown",
      "metadata": {
        "id": "JHQhAjeECDB5"
      },
      "source": [
        "# Program 3\n",
        "Find the area of a triangle from its sides"
      ]
    },
    {
      "cell_type": "code",
      "metadata": {
        "id": "R4gR5vInARUM",
        "colab": {
          "base_uri": "https://localhost:8080/",
          "height": 84
        },
        "outputId": "74d59db0-aa3a-4da3-a302-3e44be28e57f"
      },
      "source": [
        "#Area of a triangle given its sides\n",
        "#LET the sides be s1 s2 and s3\n",
        "import math\n",
        "s1 = float(input(\"Enter side 1 :\"))\n",
        "s2 = float(input(\"Enter side 2 :\"))\n",
        "s3 = float(input(\"Enter side 3 :\"))\n",
        "#using Herons formula\n",
        "s = (s1+s2+s3)/2\n",
        "\n",
        "area = math.sqrt(s*(s-s1)*(s-s2)*(s-s3))\n",
        "\n",
        "print(\"area of triangle :\",area)"
      ],
      "execution_count": null,
      "outputs": [
        {
          "output_type": "stream",
          "text": [
            "Enter side 1 :6\n",
            "Enter side 2 :6\n",
            "Enter side 3 :6\n",
            "area of triangle : 15.588457268119896\n"
          ],
          "name": "stdout"
        }
      ]
    },
    {
      "cell_type": "markdown",
      "metadata": {
        "id": "Zc1hEGzBCRFT"
      },
      "source": [
        "# Program 4\n",
        "Read a four digit binary number one digit at a time starting from the rightmost digit and print its decimal value\n",
        "\n"
      ]
    },
    {
      "cell_type": "code",
      "metadata": {
        "id": "AlcoVqCZA562",
        "colab": {
          "base_uri": "https://localhost:8080/",
          "height": 118
        },
        "outputId": "a55ae090-f627-483f-81f4-56c32ebac02e"
      },
      "source": [
        "#Ex:1000 consider rightmost as LSB and leftmost as MSB\n",
        "print(\"Enter a four digit binary number one at a time starting from MSB\")\n",
        "msb = int(input(\"MSB digit : \"))\n",
        "mid1 = int(input(\"2nd digit :\"))\n",
        "mid2 = int(input(\"3rd digit : \"))\n",
        "lsb = int(input(\"LSB digit :\"))\n",
        "\n",
        "d_digit = (msb*(2**3)) + (mid1*(2**2)) + (mid2*(2**1)) + (lsb*(2**0))\n",
        "\n",
        "print(msb,mid1,mid2,lsb,\" in decimal is \",d_digit )\n"
      ],
      "execution_count": null,
      "outputs": [
        {
          "output_type": "stream",
          "text": [
            "Enter a four digit binary number one at a time starting from MSB\n",
            "MSB digit : 1\n",
            "2nd digit :0\n",
            "3rd digit : 0\n",
            "LSB digit :1\n",
            "1 0 0 1  in decimal is  9\n"
          ],
          "name": "stdout"
        }
      ]
    },
    {
      "cell_type": "markdown",
      "metadata": {
        "id": "X2j7JZtDCdXZ"
      },
      "source": [
        "# Program 5\n",
        "Find x to the power y for some x and y"
      ]
    },
    {
      "cell_type": "code",
      "metadata": {
        "id": "nh-z5gEQA--N",
        "colab": {
          "base_uri": "https://localhost:8080/",
          "height": 67
        },
        "outputId": "38eb4bf8-9bc2-43cf-9914-25ddd28e7671"
      },
      "source": [
        "# Let x be the base and Y be the exponent\n",
        "import math\n",
        "\n",
        "x = int(input(\"Enter base :\"))\n",
        "y = int(input(\"Enter exponent :\"))\n",
        "print(\"x^y = \",x**y)"
      ],
      "execution_count": null,
      "outputs": [
        {
          "output_type": "stream",
          "text": [
            "Enter base :3\n",
            "Enter exponent :9\n",
            "x^y =  19683\n"
          ],
          "name": "stdout"
        }
      ]
    },
    {
      "cell_type": "markdown",
      "metadata": {
        "id": "Z5wclwokComa"
      },
      "source": [
        "#Program 6\n",
        "Roots of a quadratic equation ax**2 + bx + c = 0 given a,b and c"
      ]
    },
    {
      "cell_type": "code",
      "metadata": {
        "id": "MpF181TuA_aa",
        "colab": {
          "base_uri": "https://localhost:8080/",
          "height": 296
        },
        "outputId": "bdbab751-1564-4392-dff9-70c4793b7fa0"
      },
      "source": [
        "import math\n",
        "print(\"The equation Ax^2 + Bx + C\")\n",
        "#entering roots\n",
        "a = float(input(\"Enter the value of A :\"))\n",
        "b = float(input(\"Enter the value of B :\"))\n",
        "c = float(input(\"Enter the value of C :\"))\n",
        "\n",
        "discrim = (b**2 - 4*a*c)\n",
        "\n",
        "root1 = (-b + math.sqrt(discrim))/(2*a)\n",
        "root2 = (-b - math.sqrt(discrim))/(2*a)\n",
        "\n",
        "print(\"Root 1 = \", root1)\n",
        "print('Root 2 = ', root2)"
      ],
      "execution_count": null,
      "outputs": [
        {
          "output_type": "stream",
          "text": [
            "The equation Ax^2 + Bx + C\n",
            "Enter the value of A :4\n",
            "Enter the value of B :2\n",
            "Enter the value of C :16\n"
          ],
          "name": "stdout"
        },
        {
          "output_type": "error",
          "ename": "ValueError",
          "evalue": "ignored",
          "traceback": [
            "\u001b[0;31m---------------------------------------------------------------------------\u001b[0m",
            "\u001b[0;31mValueError\u001b[0m                                Traceback (most recent call last)",
            "\u001b[0;32m<ipython-input-6-188cd8f6eabb>\u001b[0m in \u001b[0;36m<module>\u001b[0;34m()\u001b[0m\n\u001b[1;32m      8\u001b[0m \u001b[0mdiscrim\u001b[0m \u001b[0;34m=\u001b[0m \u001b[0;34m(\u001b[0m\u001b[0mb\u001b[0m\u001b[0;34m**\u001b[0m\u001b[0;36m2\u001b[0m \u001b[0;34m-\u001b[0m \u001b[0;36m4\u001b[0m\u001b[0;34m*\u001b[0m\u001b[0ma\u001b[0m\u001b[0;34m*\u001b[0m\u001b[0mc\u001b[0m\u001b[0;34m)\u001b[0m\u001b[0;34m\u001b[0m\u001b[0;34m\u001b[0m\u001b[0m\n\u001b[1;32m      9\u001b[0m \u001b[0;34m\u001b[0m\u001b[0m\n\u001b[0;32m---> 10\u001b[0;31m \u001b[0mroot1\u001b[0m \u001b[0;34m=\u001b[0m \u001b[0;34m(\u001b[0m\u001b[0;34m-\u001b[0m\u001b[0mb\u001b[0m \u001b[0;34m+\u001b[0m \u001b[0mmath\u001b[0m\u001b[0;34m.\u001b[0m\u001b[0msqrt\u001b[0m\u001b[0;34m(\u001b[0m\u001b[0mdiscrim\u001b[0m\u001b[0;34m)\u001b[0m\u001b[0;34m)\u001b[0m\u001b[0;34m/\u001b[0m\u001b[0;34m(\u001b[0m\u001b[0;36m2\u001b[0m\u001b[0;34m*\u001b[0m\u001b[0ma\u001b[0m\u001b[0;34m)\u001b[0m\u001b[0;34m\u001b[0m\u001b[0;34m\u001b[0m\u001b[0m\n\u001b[0m\u001b[1;32m     11\u001b[0m \u001b[0mroot2\u001b[0m \u001b[0;34m=\u001b[0m \u001b[0;34m(\u001b[0m\u001b[0;34m-\u001b[0m\u001b[0mb\u001b[0m \u001b[0;34m-\u001b[0m \u001b[0mmath\u001b[0m\u001b[0;34m.\u001b[0m\u001b[0msqrt\u001b[0m\u001b[0;34m(\u001b[0m\u001b[0mdiscrim\u001b[0m\u001b[0;34m)\u001b[0m\u001b[0;34m)\u001b[0m\u001b[0;34m/\u001b[0m\u001b[0;34m(\u001b[0m\u001b[0;36m2\u001b[0m\u001b[0;34m*\u001b[0m\u001b[0ma\u001b[0m\u001b[0;34m)\u001b[0m\u001b[0;34m\u001b[0m\u001b[0;34m\u001b[0m\u001b[0m\n\u001b[1;32m     12\u001b[0m \u001b[0;34m\u001b[0m\u001b[0m\n",
            "\u001b[0;31mValueError\u001b[0m: math domain error"
          ]
        }
      ]
    },
    {
      "cell_type": "markdown",
      "metadata": {
        "id": "9G_Hjta1DrjS"
      },
      "source": [
        "# Program 7\n",
        "\n",
        "Program to add two real numbers and print their sum using format function"
      ]
    },
    {
      "cell_type": "code",
      "metadata": {
        "id": "M2NmeI9eA_tg",
        "colab": {
          "base_uri": "https://localhost:8080/",
          "height": 67
        },
        "outputId": "ff06c700-861e-43c5-f570-06afc0369618"
      },
      "source": [
        "# Let the numbers be num1 and num2\n",
        "num1 = float(input(\"Enter 1st number :\"))\n",
        "num2 = float(input(\"Enter 2nd number :\"))\n",
        "#s = num1 + num2\n",
        "print('{} + {} = {}'.format(num1,num2,num1 + num2))"
      ],
      "execution_count": null,
      "outputs": [
        {
          "output_type": "stream",
          "text": [
            "Enter 1st number :5\n",
            "Enter 2nd number :5\n",
            "5.0 + 5.0 = 10.0\n"
          ],
          "name": "stdout"
        }
      ]
    },
    {
      "cell_type": "markdown",
      "metadata": {
        "id": "IPlpac-mD1lq"
      },
      "source": [
        "# Program 8\n",
        "\n",
        "Swap two given values"
      ]
    },
    {
      "cell_type": "code",
      "metadata": {
        "id": "cCRXFfwmA_-M",
        "colab": {
          "base_uri": "https://localhost:8080/",
          "height": 67
        },
        "outputId": "002df1a2-969b-4fad-ffd2-6150bfe5dd36"
      },
      "source": [
        "val1 = input(\"Enter first value to be swapped: \")\n",
        "val2 = input(\"Enter second value to be swapped :\")\n",
        "\n",
        "# Swapping with temporary variable\n",
        "\n",
        "temp = val1\n",
        "val1 = val2\n",
        "val2 = temp\n",
        "print(\"Value 1 and value 2 after swapping :\",val1,val2)\n",
        "\n",
        "#swap without temp\n",
        "#val1,val2 = val2,val1\n",
        "#print(val1,val2)"
      ],
      "execution_count": null,
      "outputs": [
        {
          "output_type": "stream",
          "text": [
            "Enter first value to be swapped: 1\n",
            "Enter second value to be swapped :11\n",
            "Value 1 and value 2 after swapping : 11 1\n"
          ],
          "name": "stdout"
        }
      ]
    },
    {
      "cell_type": "markdown",
      "metadata": {
        "id": "VRFpMNN5ELSd"
      },
      "source": [
        "\n",
        "# Program 9\n",
        "\n",
        "Generate a random number between 0 and 9\n"
      ]
    },
    {
      "cell_type": "code",
      "metadata": {
        "id": "wprOK-dPBANK",
        "colab": {
          "base_uri": "https://localhost:8080/",
          "height": 34
        },
        "outputId": "929198b3-9d13-4916-dc87-033ed9437a3b"
      },
      "source": [
        "import random\n",
        "print(random.randint(0,9))"
      ],
      "execution_count": null,
      "outputs": [
        {
          "output_type": "stream",
          "text": [
            "6\n"
          ],
          "name": "stdout"
        }
      ]
    },
    {
      "cell_type": "markdown",
      "metadata": {
        "id": "ozgMmTXaEajU"
      },
      "source": [
        "# Program 10\n",
        "\n",
        "Convert a decimal number to binary, octal and hexa\n"
      ]
    },
    {
      "cell_type": "code",
      "metadata": {
        "id": "j1xtC9QgBAbn",
        "colab": {
          "base_uri": "https://localhost:8080/",
          "height": 84
        },
        "outputId": "796b5355-3c97-4544-8e3e-1f7d1193d526"
      },
      "source": [
        "decnum = int(input(\"Enter a decimal number :\"))\n",
        "print('{0} in binary is {1}'.format(decnum,bin(decnum)))\n",
        "print('{0} in octal is {1}'.format(decnum,oct(decnum)))\n",
        "print('{0} in hexadecimal is {1}'.format(decnum,hex(decnum)))\n"
      ],
      "execution_count": null,
      "outputs": [
        {
          "output_type": "stream",
          "text": [
            "Enter a decimal number :12\n",
            "12 in binary is 0b1100\n",
            "12 in octal is 0o14\n",
            "12 in hexadecimal is 0xc\n"
          ],
          "name": "stdout"
        }
      ]
    },
    {
      "cell_type": "markdown",
      "metadata": {
        "id": "mBHY0lPpEgiW"
      },
      "source": [
        "# Program 11\n",
        "\n",
        "Read the radius of a circle and find its area\n"
      ]
    },
    {
      "cell_type": "code",
      "metadata": {
        "id": "eaU4bU3OBAqJ",
        "colab": {
          "base_uri": "https://localhost:8080/",
          "height": 50
        },
        "outputId": "3a663c38-fbb2-4d97-c271-d7d5f12fa474"
      },
      "source": [
        "import math\n",
        "rad = float(input(\"Enter radius in to calculate area : \"))\n",
        "area = (math.pi)*rad**2\n",
        "print(\"Area of circle with radius {0} is {1} sq.units\".format(rad,area))\n"
      ],
      "execution_count": null,
      "outputs": [
        {
          "output_type": "stream",
          "text": [
            "Enter radius in to calculate area : 2\n",
            "Area of circle with radius 2.0 is 12.566370614359172 sq.units\n"
          ],
          "name": "stdout"
        }
      ]
    },
    {
      "cell_type": "markdown",
      "metadata": {
        "id": "P3YodiG-EmyS"
      },
      "source": [
        "# Program 12\n",
        "\n",
        "An object’s momentum is a product of its mass and velocity. Write a Python script to accept an object’s mass (in kilograms) and velocity (in metres per second) as inputs and output its momentum.\n"
      ]
    },
    {
      "cell_type": "code",
      "metadata": {
        "id": "gLuLyIkoBA3k",
        "colab": {
          "base_uri": "https://localhost:8080/",
          "height": 67
        },
        "outputId": "3831efbd-255e-4209-f8a2-e6762cc828cd"
      },
      "source": [
        "import math\n",
        "\n",
        "mass = float(input(\"Enter mass of the object in kg :\"))\n",
        "vel  = float(input(\"Enter the velocity of the object in m/s :\"))\n",
        "print(\"momentum =\",mass*vel,\"kg m/s\")"
      ],
      "execution_count": null,
      "outputs": [
        {
          "output_type": "stream",
          "text": [
            "Enter mass of the object in kg :55\n",
            "Enter the velocity of the object in m/s :2\n",
            "momentum = 110.0 kg m/s\n"
          ],
          "name": "stdout"
        }
      ]
    },
    {
      "cell_type": "markdown",
      "metadata": {
        "id": "DPBO3f4REuya"
      },
      "source": [
        "\n",
        "\n",
        "---\n",
        "\n"
      ]
    },
    {
      "cell_type": "code",
      "metadata": {
        "id": "M5qLLwkeBBE0"
      },
      "source": [
        ""
      ],
      "execution_count": null,
      "outputs": []
    },
    {
      "cell_type": "markdown",
      "metadata": {
        "id": "sTvelNJydmUV"
      },
      "source": [
        "## Operator Programs"
      ]
    },
    {
      "cell_type": "markdown",
      "metadata": {
        "id": "-AxRn4NVdyQo"
      },
      "source": [
        "# Program 1\n",
        "\n",
        "Write a python program to determine a number is even or odd.\n"
      ]
    },
    {
      "cell_type": "code",
      "metadata": {
        "id": "YZEwQdfzdz5y"
      },
      "source": [
        "n = float(input(\"Enter number to check even or odd : \"))\n",
        "if n% 2 == 0:\n",
        "    print(n,\"is even\")\n",
        "else :\n",
        "    print(n,\"is odd\")\n",
        "    "
      ],
      "execution_count": null,
      "outputs": []
    },
    {
      "cell_type": "markdown",
      "metadata": {
        "id": "PMAQ92FMd3oa"
      },
      "source": [
        "# Program 2\n",
        "\n",
        "Write a python program to know whether a number is positive or negative.\n"
      ]
    },
    {
      "cell_type": "code",
      "metadata": {
        "id": "9OfK99gKd0R_"
      },
      "source": [
        "n = float(input(\"Enter number to check +ve or -ve: \"))\n",
        "if n<0:\n",
        "    print(n,\"is negative\")\n",
        "elif n==0:\n",
        "    print(n,\"is neither positive nor negative\")\n",
        "else :\n",
        "    print(n,\"is positive\")"
      ],
      "execution_count": null,
      "outputs": []
    },
    {
      "cell_type": "markdown",
      "metadata": {
        "id": "nR39eVljd_8b"
      },
      "source": [
        "# Program 3\n",
        "\n",
        "Read two numbers num1 and num2 and find the largest of two.\n"
      ]
    },
    {
      "cell_type": "code",
      "metadata": {
        "id": "fpVATPqDd0cA"
      },
      "source": [
        "num1 = float(input(\"Enter 1st number to compare:\"))\n",
        "num2 = float(input(\"Enter 2nd number to compare:\"))\n",
        "if num1>num2:\n",
        "    print(num1,\"is largest\")\n",
        "elif num2>num1 :\n",
        "    print(num2,'is largest')\n",
        "else :\n",
        "    print(\"EQUAL!!!\")"
      ],
      "execution_count": null,
      "outputs": []
    },
    {
      "cell_type": "markdown",
      "metadata": {
        "id": "UXqQQUYSeFqT"
      },
      "source": [
        "# Program 4\n",
        "\n",
        "Read a character A or B or C. \n",
        "If the character input is A, program should print ‘Apple’; \n",
        "if character entered is B, program should print ‘Banana’;\n",
        "if character entered is C, program should print ‘Coconut\n"
      ]
    },
    {
      "cell_type": "code",
      "metadata": {
        "id": "294rGcmdd0is"
      },
      "source": [
        "print(\"Choose an option :\")\n",
        "choice = input(\"A or B or C -->\")\n",
        "if choice=='A' :\n",
        "    print(\"Apple\")\n",
        "elif choice =='B':\n",
        "    print(\"Banana\")\n",
        "elif choice=='C':\n",
        "    print(\"Coconut\")\n",
        "else :\n",
        "    print(\"Choose only from given options\")\n",
        "    \n",
        "    "
      ],
      "execution_count": null,
      "outputs": []
    },
    {
      "cell_type": "markdown",
      "metadata": {
        "id": "RCNjoZbkeJnQ"
      },
      "source": [
        "# Program 5\n",
        "Read three numbers and find the largest of three.\n"
      ]
    },
    {
      "cell_type": "code",
      "metadata": {
        "id": "9dESmRfqd0m-"
      },
      "source": [
        "a = float(input(\"enter num1 :\"))\n",
        "b = float(input(\"enter num2 :\"))\n",
        "c = float(input(\"enter num3 :\"))\n",
        "if a > b:\n",
        "    if a > c:\n",
        "        print('num1=',a)\n",
        "    else:\n",
        "        print('num3=',c)\n",
        "else:\n",
        "    if b > c:\n",
        "        print('num2=',b)\n",
        "    else:\n",
        "        print('num3=',c)\n",
        "print(' is the largest value')\n"
      ],
      "execution_count": null,
      "outputs": []
    },
    {
      "cell_type": "markdown",
      "metadata": {
        "id": "EfE-z5xceN7d"
      },
      "source": [
        "# Program 6\n",
        "  Write a Python script that reads the numeric grade of a student and print its equivalent letter grade as given below:\n"
      ]
    },
    {
      "cell_type": "code",
      "metadata": {
        "id": "bExCrm6Kd0qj"
      },
      "source": [
        "grade = int(input(\"Enter Marks :\"))\n",
        "\n",
        "if grade > 89:\n",
        "    print('Your grade is \"A\"')\n",
        "elif grade > 79 and grade < 90:\n",
        "        print(\"Your grade is 'B'\")\n",
        "elif grade > 69 and  grade < 80:\n",
        "        print(\"Your grade is 'C'\")\n",
        "else:\n",
        "    print(\"Your grade is 'F'\")"
      ],
      "execution_count": null,
      "outputs": []
    },
    {
      "cell_type": "markdown",
      "metadata": {
        "id": "rSrnPscteUj5"
      },
      "source": [
        "# Program 7\n",
        " Write a Python script to read the length and breadth of a rectangular garden in centimeters. The program should also find the cost of fencing the garden, if the cost of fencing per cm Rs.168. \n"
      ]
    },
    {
      "cell_type": "code",
      "metadata": {
        "id": "ToK2qo1kd0t-",
        "colab": {
          "base_uri": "https://localhost:8080/",
          "height": 67
        },
        "outputId": "b41ecfdf-c39a-4b55-da9c-d6cd10721944"
      },
      "source": [
        "length = float(input(\"enter length in cm : \"))\n",
        "breadth = float(input(\"enter breadth in cm : \"))\n",
        "peri = 2*(length + breadth)\n",
        "print(\"The cost required for fencing is = Rs.\",peri*168)"
      ],
      "execution_count": null,
      "outputs": [
        {
          "output_type": "stream",
          "text": [
            "enter length in cm : 10\n",
            "enter breadth in cm : 3\n",
            "The cost required for fencing is = Rs. 4368.0\n"
          ],
          "name": "stdout"
        }
      ]
    },
    {
      "cell_type": "markdown",
      "metadata": {
        "id": "hLFgzcCzeYvG"
      },
      "source": [
        "# Program 8\n",
        "\n",
        "    Write a Python script to read the name and age of two persons x and y. \n",
        "    The program should also print the younger of the two.\n",
        " \n",
        "\tSample Input :\n",
        "\tName : David   Age : 67\n",
        "\tName: Jennifer  Age : 32\n",
        " \tOutput:\n",
        "\tJennifer is the youngest\n"
      ]
    },
    {
      "cell_type": "code",
      "metadata": {
        "id": "h4Yi_9ShhsxF",
        "colab": {
          "base_uri": "https://localhost:8080/",
          "height": 101
        },
        "outputId": "e0bbd4cd-4bd5-4c44-92b0-0bd3ee1f4c8d"
      },
      "source": [
        "name_x = input(\"enter name of person X :\")\n",
        "name_y = input(\"enter name of person Y :\")\n",
        "age_x = int(input(\"enter age of X :\"))\n",
        "age_y = int(input(\"enter age of Y :\"))\n",
        "if age_x < age_y:\n",
        "  print(f'{name_x} is the youngest')\n",
        "elif age_y < age_x:\n",
        "  print(f'{name_y} is the youngest')\n",
        "else :\n",
        "  print(\"Invalid \")\n"
      ],
      "execution_count": null,
      "outputs": [
        {
          "output_type": "stream",
          "text": [
            "enter name of person X :sai\n",
            "enter name of person Y :ram\n",
            "enter age of X :18\n",
            "enter age of Y :20\n",
            "sai is the youngest\n"
          ],
          "name": "stdout"
        }
      ]
    },
    {
      "cell_type": "markdown",
      "metadata": {
        "id": "_ynklPONec4V"
      },
      "source": [
        "# Program 9\n",
        " Write a Program to read the three sides of a triangle and check whether it is Equilateral, Isosceles or Scalene Triangle\n",
        " "
      ]
    },
    {
      "cell_type": "code",
      "metadata": {
        "id": "N__C7zJ3egrl"
      },
      "source": [
        "side1 = float(input(\"Enter side 1 in cm : \"))\n",
        "side2 = float(input(\"Enter side 2 in cm : \"))\n",
        "side3 = float(input(\"Enter side 3 in cm : \"))\n",
        "if (side1==side2==side3):\n",
        "    print(\"Equilateral Triangle \")\n",
        "elif (side1==side2) or (side2==side3) or (side3==side1):\n",
        "    print(\"Isosceles Triangle \")\n",
        "else \n",
        "print(\"Scalene Triangle\");"
      ],
      "execution_count": null,
      "outputs": []
    },
    {
      "cell_type": "markdown",
      "metadata": {
        "id": "0GApWL1xelH2"
      },
      "source": [
        "# Program 10\n",
        "Write a Python script to read a three digit number and find the sum of the cubes of the individual digits. \n"
      ]
    },
    {
      "cell_type": "code",
      "metadata": {
        "id": "mY7hs1WHeg7V",
        "colab": {
          "base_uri": "https://localhost:8080/",
          "height": 50
        },
        "outputId": "d8336de0-949e-40dd-e339-2041df785b11"
      },
      "source": [
        "num = int(input(\"enter a 3 digit number : \"))\n",
        "sum = 0\n",
        "temp = num\n",
        "while temp>0:\n",
        "  num = temp%10\n",
        "  sum = sum + num**3\n",
        "  temp = temp//10\n",
        "print(\"sum of cubes = \",sum)"
      ],
      "execution_count": null,
      "outputs": [
        {
          "output_type": "stream",
          "text": [
            "enter a 3 digit number : 123\n",
            "sum of cubes =  36\n"
          ],
          "name": "stdout"
        }
      ]
    },
    {
      "cell_type": "markdown",
      "metadata": {
        "id": "-8eS6xVlen2C"
      },
      "source": [
        "# Program 11\n",
        "Write a Python script to read a character and check whether it is an alphabet, digit or a special character"
      ]
    },
    {
      "cell_type": "code",
      "metadata": {
        "id": "Dj0QmxPVerjk",
        "colab": {
          "base_uri": "https://localhost:8080/",
          "height": 50
        },
        "outputId": "57c0fa3d-3d98-43df-df5f-7296269b14e9"
      },
      "source": [
        "chr = input(\"enter a character :\")\n",
        "asci = ord(chr)\n",
        "if (asci >= 65) and (asci<=90):\n",
        "  print(f'{chr} is an uppercase alphabet ')\n",
        "elif (asci >= 97) and (asci<=122):\n",
        "  print(f'{chr} is a lowercase alphabet ')  \n",
        "elif (asci>=48 and asci<=57):\n",
        "  print(f'{chr} is a digit')\n",
        "else :\n",
        "   print(f'{chr} is a special character') "
      ],
      "execution_count": null,
      "outputs": [
        {
          "output_type": "stream",
          "text": [
            "enter a character :@\n",
            "@ is a special character\n"
          ],
          "name": "stdout"
        }
      ]
    },
    {
      "cell_type": "markdown",
      "metadata": {
        "id": "nIS9yvgyetUn"
      },
      "source": [
        "# Program 12\n",
        "Write a Python script to read the x and y co-ordinate of a point (x, y) and find the quadrant in which the point lies as given below:-\n",
        "            Condition             |      Quadrant\n",
        "                                  |\n",
        "            x is +ve,y is -ve     |      First\n",
        "            x is -ve,y is +ve     |      Second\n",
        "            x is -ve,y is -ve     |      Third\n",
        "            x is +ve,y is -ve     |      Fourth ![image.png](data:image/png;base64,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)"
      ]
    },
    {
      "cell_type": "code",
      "metadata": {
        "id": "3yjuCqfLehHg",
        "colab": {
          "base_uri": "https://localhost:8080/",
          "height": 67
        },
        "outputId": "60b63a22-1489-4e35-92ae-e00c129d7e22"
      },
      "source": [
        "x,y = float(input(\"Enter the co-ordinates of X :\")),float(input(\"Enter the co ordinates of Y :\"))\n",
        "if (x>0) and (y>0):\n",
        "  print(\"1st quadrant\")\n",
        "elif (x==0 and y >0):\n",
        "  print(\"+ve Y-axis\")\n",
        "elif(x<0) and (y>0):\n",
        "  print(\"2nd quadrant\")\n",
        "elif(x ==0 and y<0):\n",
        "  print(\"-VE Y-axis\")\n",
        "elif (x<0) and (y<0):\n",
        "  print(\"3rd quadrant\")\n",
        "elif( y == 0 and x > 0):\n",
        "  print(\"+ve X-axis\")\n",
        "elif(y==0 and x<0):\n",
        "  print(\"-Ve x-axis\")\n",
        "elif(x>0) and (y<0):\n",
        "  print(\"4th quadrant\")\n",
        "elif(x==0 and y==0):\n",
        "  print(\"Origin\")\n",
        "else:\n",
        "  print(\"Invalid co-od\")"
      ],
      "execution_count": null,
      "outputs": [
        {
          "output_type": "stream",
          "text": [
            "Enter the co-ordinates of X :0\n",
            "Enter the co ordinates of Y :0\n",
            "Origin\n"
          ],
          "name": "stdout"
        }
      ]
    },
    {
      "cell_type": "markdown",
      "metadata": {
        "id": "vgbUHn7NqeTQ"
      },
      "source": [
        "## Iterative Control Structures\n",
        "\n",
        "\n",
        "*   While loop\n",
        "*   For loop\n",
        "*   Range function\n",
        "*   Break statement\n",
        "*   Continue statement\n",
        "*   PASS statement\n",
        "\n",
        "\n",
        "\n",
        "\n"
      ]
    },
    {
      "cell_type": "markdown",
      "metadata": {
        "id": "6VlQ7rBCrL3v"
      },
      "source": [
        "## Program 1\n",
        "Find 1+2+.......+n for a given n.\n"
      ]
    },
    {
      "cell_type": "code",
      "metadata": {
        "id": "MFdgCDjxrMEg",
        "colab": {
          "base_uri": "https://localhost:8080/",
          "height": 50
        },
        "outputId": "583b44e2-3c32-41cf-b8a9-7eaf98aad9dd"
      },
      "source": [
        "n = int(input(\"enter a value :\"))\n",
        "sum=0 ; cur=0\n",
        "while cur<=n:\n",
        "  sum+=cur\n",
        "  cur+=1\n",
        "print(sum)"
      ],
      "execution_count": null,
      "outputs": [
        {
          "output_type": "stream",
          "text": [
            "enter a value :10\n",
            "55\n"
          ],
          "name": "stdout"
        }
      ]
    },
    {
      "cell_type": "markdown",
      "metadata": {
        "id": "IpfhUnaO0nPB"
      },
      "source": [
        "# Program 2\n",
        "Program to read ‘n’ numbers and count positive, negatives and zeros among them"
      ]
    },
    {
      "cell_type": "code",
      "metadata": {
        "id": "hVLgHk6E0qPK",
        "colab": {
          "base_uri": "https://localhost:8080/",
          "height": 101
        },
        "outputId": "b0a928ea-c263-4b33-afd8-c81ec9cb9d38"
      },
      "source": [
        "npos=0; nneg=0 ; nzero=0 ; count = 0\n",
        "n = int(input(\"enter the value : \"))\n",
        "while count<=0:\n",
        "  count+=1\n",
        "  num=int(input(\"enter number: \"))\n",
        "  if num < 0:\n",
        "        nneg +=  1\n",
        "  elif num > 0:\n",
        "        npos +=  1\n",
        "  else:\n",
        "        nzero += 1\n",
        "print('Positive count is {0}\\n Negative count is {1}\\n Zeros are {2}'.format(npos,nneg,nzero))\n"
      ],
      "execution_count": null,
      "outputs": [
        {
          "output_type": "stream",
          "text": [
            "enter the value : 2\n",
            "enter number: 12\n",
            "Positive count is 1\n",
            " Negative count is 0\n",
            " Zeros are 0\n"
          ],
          "name": "stdout"
        }
      ]
    },
    {
      "cell_type": "code",
      "metadata": {
        "id": "ODnfSD0J2Fb3",
        "colab": {
          "base_uri": "https://localhost:8080/",
          "height": 168
        },
        "outputId": "bb781d3f-250c-4778-c6ee-14e9095221eb"
      },
      "source": [
        "for num in range(1,10):\n",
        "  print(num)"
      ],
      "execution_count": null,
      "outputs": [
        {
          "output_type": "stream",
          "text": [
            "1\n",
            "2\n",
            "3\n",
            "4\n",
            "5\n",
            "6\n",
            "7\n",
            "8\n",
            "9\n"
          ],
          "name": "stdout"
        }
      ]
    },
    {
      "cell_type": "markdown",
      "metadata": {
        "id": "4XbiZQQL2ws7"
      },
      "source": [
        "## Program 3\n",
        "Find the factorial of a given number n using for loop\u000b"
      ]
    },
    {
      "cell_type": "code",
      "metadata": {
        "id": "WdTMPrm22zsd",
        "colab": {
          "base_uri": "https://localhost:8080/",
          "height": 50
        },
        "outputId": "5270daed-5f8e-41d2-b5ee-e02925b14446"
      },
      "source": [
        "num = int(input(\"enter the number : \"))\n",
        "if(num==0 or num==1):\n",
        "  print(f\"{num}! = 1\")\n",
        "else:\n",
        "  fact = 1\n",
        "  for x in range (1,num+1):\n",
        "       fact*=x\n",
        "  print(f\"{num}!={fact}\")"
      ],
      "execution_count": null,
      "outputs": [
        {
          "output_type": "stream",
          "text": [
            "enter the number : 3\n",
            "3!=6\n"
          ],
          "name": "stdout"
        }
      ]
    },
    {
      "cell_type": "markdown",
      "metadata": {
        "id": "B4-00hZc7XqY"
      },
      "source": [
        "# Program 4\n",
        "Check whether a given number is prime or not."
      ]
    },
    {
      "cell_type": "code",
      "metadata": {
        "id": "xn_o7vSB3BCy",
        "colab": {
          "base_uri": "https://localhost:8080/",
          "height": 50
        },
        "outputId": "944cc1ca-3f9b-45e4-922e-222acd45f81f"
      },
      "source": [
        "num = int(input(\"enter a number : \"))\n",
        "if num > 1: \n",
        "   for i in range(2, num): \n",
        "       if (num % i) == 0: \n",
        "           print(num, \"is not a prime number\") \n",
        "           break\n",
        "   else: \n",
        "       print(num, \"is a prime number\")  \n",
        "else: \n",
        "   print(num, \"is not a prime number\") "
      ],
      "execution_count": null,
      "outputs": [
        {
          "output_type": "stream",
          "text": [
            "enter a number : 41\n",
            "41 is a prime number\n"
          ],
          "name": "stdout"
        }
      ]
    },
    {
      "cell_type": "markdown",
      "metadata": {
        "id": "WCLDfI-sF2Ia"
      },
      "source": [
        "##Program 5\n",
        "Check whether a given number is a perfect number or not"
      ]
    },
    {
      "cell_type": "code",
      "metadata": {
        "id": "ca1drZWZF7lh",
        "colab": {
          "base_uri": "https://localhost:8080/",
          "height": 50
        },
        "outputId": "03e1516a-4d00-4cdf-a630-e03db538a64a"
      },
      "source": [
        "num = int(input(\" Enter a number: \"))\n",
        "sum = 0\n",
        "for i in range(1, num):\n",
        "    if(num % i == 0):\n",
        "        sum +=  i\n",
        "if (sum == num):\n",
        "    print(f\" {num} is a Perfect Number\" )\n",
        "else:\n",
        "    print( f\" {num} is not a perfect number\")"
      ],
      "execution_count": null,
      "outputs": [
        {
          "output_type": "stream",
          "text": [
            " Enter a number: 8\n",
            " 8 is not a perfect number\n"
          ],
          "name": "stdout"
        }
      ]
    },
    {
      "cell_type": "markdown",
      "metadata": {
        "id": "g3AxotJ-F8t7"
      },
      "source": [
        "##Program 6\n",
        "Check whether a given number is an armstrong  number or not"
      ]
    },
    {
      "cell_type": "code",
      "metadata": {
        "id": "fJUPjDpaGF1A",
        "colab": {
          "base_uri": "https://localhost:8080/",
          "height": 52
        },
        "outputId": "b8d3a97a-043c-46bc-890c-5b7e8e3deee8"
      },
      "source": [
        "num = int(input(\"enter the number :\"))\n",
        "sum = 0 ; temp = num\n",
        "while temp > 0:\n",
        "   digit = temp % 10\n",
        "   sum += digit ** 3\n",
        "   temp //= 10\n",
        "if num == sum:\n",
        "   print(f\"{num} is an Armstrong number\")\n",
        "else:\n",
        "   print(f\"{num} is not an Armstrong number\")"
      ],
      "execution_count": null,
      "outputs": [
        {
          "output_type": "stream",
          "text": [
            "enter the number :370\n",
            "370 is an Armstrong number\n"
          ],
          "name": "stdout"
        }
      ]
    },
    {
      "cell_type": "markdown",
      "metadata": {
        "id": "CRlp6d-EGOve"
      },
      "source": [
        "##Program 7\n",
        "Program to print all prime numbers within a particular interval"
      ]
    },
    {
      "cell_type": "code",
      "metadata": {
        "id": "j85USa9jGSfe",
        "colab": {
          "base_uri": "https://localhost:8080/",
          "height": 118
        },
        "outputId": "b6af7efe-c5f8-4d75-811a-e968a361a4bb"
      },
      "source": [
        "lb,ub = int(input(\"enter lower bound :\")),int(input(\"enter upper bound :\"))\n",
        "for num in range(lb, ub+ 1):\n",
        "   if num > 1:\n",
        "       for i in range(2, num):\n",
        "           if (num % i) == 0:\n",
        "               break\n",
        "       else:\n",
        "           print(num)\n",
        "\n",
        "    "
      ],
      "execution_count": null,
      "outputs": [
        {
          "output_type": "stream",
          "text": [
            "enter lower bound :2\n",
            "enter upper bound :10\n",
            "2\n",
            "3\n",
            "5\n",
            "7\n"
          ],
          "name": "stdout"
        }
      ]
    },
    {
      "cell_type": "markdown",
      "metadata": {
        "id": "kHmElj5TGS-A"
      },
      "source": [
        "##Program 8\n",
        "Multiplication table of a given number"
      ]
    },
    {
      "cell_type": "code",
      "metadata": {
        "id": "w1VYVnIrGffg",
        "colab": {
          "base_uri": "https://localhost:8080/",
          "height": 202
        },
        "outputId": "204edf7c-a3ae-4b0f-eff4-b5bf94c62723"
      },
      "source": [
        "num = int(input(\"Enter a number :\"))\n",
        "for i in range (1,11):\n",
        "  print(f\"{num} X {i} = {num*i}\")"
      ],
      "execution_count": null,
      "outputs": [
        {
          "output_type": "stream",
          "text": [
            "Enter a number :3\n",
            "3 X 1 = 3\n",
            "3 X 2 = 6\n",
            "3 X 3 = 9\n",
            "3 X 4 = 12\n",
            "3 X 5 = 15\n",
            "3 X 6 = 18\n",
            "3 X 7 = 21\n",
            "3 X 8 = 24\n",
            "3 X 9 = 27\n",
            "3 X 10 = 30\n"
          ],
          "name": "stdout"
        }
      ]
    },
    {
      "cell_type": "markdown",
      "metadata": {
        "id": "DbgMtYTnGf3q"
      },
      "source": [
        "##Program 9\n",
        "Print first n terms of the fibonacci series"
      ]
    },
    {
      "cell_type": "code",
      "metadata": {
        "id": "1S3np49GGvvO",
        "colab": {
          "base_uri": "https://localhost:8080/",
          "height": 50
        },
        "outputId": "90236887-47d8-4020-b3e4-4a46425ec26e"
      },
      "source": [
        "num = int(input(\"enter the end range : \"))\n",
        "i = 0 ; first = 0 ; second = 1          \n",
        "while(i < num):\n",
        "  if(i <= 1):\n",
        "    next = i\n",
        "  else:\n",
        "      next = first + second\n",
        "      first = second\n",
        "      second = next\n",
        "  print(next)\n",
        "  i += 1"
      ],
      "execution_count": null,
      "outputs": [
        {
          "output_type": "stream",
          "text": [
            "enter the end range : 1\n",
            "0\n"
          ],
          "name": "stdout"
        }
      ]
    },
    {
      "cell_type": "markdown",
      "metadata": {
        "id": "wapIxrslkeZi"
      },
      "source": [
        "# EXERCISE PROGRAMS "
      ]
    },
    {
      "cell_type": "markdown",
      "metadata": {
        "id": "NZFFYWJfk2wu"
      },
      "source": [
        "## Program 1\n",
        "Write a Python program to read a cat’s age in human years and calculate its equivalent cat’s age in cat years.\u000bNote: For the first two years, a cat year is equal to 10.5 human years. After that, each cat year equals 4 human years.\u000b"
      ]
    },
    {
      "cell_type": "code",
      "metadata": {
        "id": "HzEK7S5jk7Z6",
        "colab": {
          "base_uri": "https://localhost:8080/",
          "height": 50
        },
        "outputId": "006e9df2-d50a-475e-c0e5-f42965ad7cf3"
      },
      "source": [
        "hage = int(input(\"enter cat's age in years : \"))\n",
        "if hage==0:\n",
        "  print(\"age should be +Ve\")\n",
        "  exit()\n",
        "elif hage <=2:\n",
        "  cage=10.5*hage\n",
        "else :\n",
        "  cage =(10.5*2)+(hage-2)*4\n",
        "print('cat age in human years = ',cage)\n",
        "\n",
        "  \n",
        "\n"
      ],
      "execution_count": null,
      "outputs": [
        {
          "output_type": "stream",
          "text": [
            "enter cat's age in years : 3\n",
            "cat age in human years =  25.0\n"
          ],
          "name": "stdout"
        }
      ]
    },
    {
      "cell_type": "markdown",
      "metadata": {
        "id": "p5GDJP1Hk77r"
      },
      "source": [
        "## Program 2\n",
        "Rahul is an obedient son. His mother wants him to go to market and purchase some vegetables based on some conditions. Rahul decided to automate the price list based on the list given by his mother:Potato: purchase 5kg if price is\n",
        "<=20 otherwise purchase 1kg Tomato: purchase 2kg if price is <=40 otherwise purchase 1kg Onion: purchase 2kg if price is <=100 otherwise purchase 1kg\u000b"
      ]
    },
    {
      "cell_type": "code",
      "metadata": {
        "id": "X2I65X3Wk_CU",
        "colab": {
          "base_uri": "https://localhost:8080/",
          "height": 118
        },
        "outputId": "ca4a3609-52ea-42cf-b132-cf36375ef015"
      },
      "source": [
        "price1 = float(input(\"enter price of potatoes : \"))\n",
        "price2 = float(input(\"enter price of tomatoes : \"))\n",
        "price3 = float(input(\"enter price of onion : \"))\n",
        "if price1<=20:\n",
        "  print(\"purchase 5 Kg Potatoes \")\n",
        "else :\n",
        "    print (\"purchase 1 Kg potatoes \")\n",
        "if (price2<=40):\n",
        "  print(\"purchase 2 Kg tomatoes \")\n",
        "else:\n",
        "    print(\"purchase 1 Kg tomatoes \")\n",
        "if (price3<=100):\n",
        "  print(\"purchase 2 Kg Onion \")\n",
        "else :\n",
        "    print(\"purchase 1 kg Onion\")"
      ],
      "execution_count": null,
      "outputs": [
        {
          "output_type": "stream",
          "text": [
            "enter price of potatoes : 3\n",
            "enter price of tomatoes : 2\n",
            "enter price of onion : 1\n",
            "purchase 5 Kg Potatoes \n",
            "purchase 2 Kg tomatoes \n",
            "purchase 2 Kg Onion \n"
          ],
          "name": "stdout"
        }
      ]
    },
    {
      "cell_type": "markdown",
      "metadata": {
        "id": "Cz7p2jBak_ZF"
      },
      "source": [
        "# Program 3\n",
        "\n",
        "Print the alphabets till z with given increment value, from given starting value\n"
      ]
    },
    {
      "cell_type": "code",
      "metadata": {
        "id": "RkxxkFlslFDG",
        "colab": {
          "base_uri": "https://localhost:8080/",
          "height": 67
        },
        "outputId": "00536453-446f-4201-cd16-47f9350c6bba"
      },
      "source": [
        "step = int(input(\"Enter the step (inc) value \"))+1\n",
        "start = ord(input(\"Enter starting point \"))\n",
        "while start <= ord(\"z\"):\n",
        " print(chr(start),end = \" \")\n",
        " start += step\n"
      ],
      "execution_count": null,
      "outputs": [
        {
          "output_type": "stream",
          "text": [
            "Enter the step (inc) value 2\n",
            "Enter starting point a\n",
            "a d g j m p s v y "
          ],
          "name": "stdout"
        }
      ]
    },
    {
      "cell_type": "markdown",
      "metadata": {
        "id": "ZwZ0CENYlFYw"
      },
      "source": [
        "# Program 4\n",
        "Write a Python script to guess a number between 1 to 9.\u000b"
      ]
    },
    {
      "cell_type": "code",
      "metadata": {
        "id": "WyEKRMuxlGUT",
        "colab": {
          "base_uri": "https://localhost:8080/",
          "height": 50
        },
        "outputId": "b1666b41-d611-4fe1-face-31bee35f4b35"
      },
      "source": [
        "import random as rd\n",
        "correct_guess = rd.randint(1,10)\n",
        "guess = 0\n",
        "while guess!= correct_guess:\n",
        " guess = int(input(\"match a guess between 1 to 9 until its right\"))\n",
        "print(\"Winner!!\") \n"
      ],
      "execution_count": null,
      "outputs": [
        {
          "output_type": "stream",
          "text": [
            "match a guess between 1 to 9 until its right3\n",
            "Winner!!\n"
          ],
          "name": "stdout"
        }
      ]
    },
    {
      "cell_type": "markdown",
      "metadata": {
        "id": "cBg-kbMnlGmu"
      },
      "source": [
        "# Program 5\n",
        "Write a Python program to construct the following pattern, using a nested for loop.\n",
        "![image.png](data:image/png;base64,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)\n"
      ]
    },
    {
      "cell_type": "code",
      "metadata": {
        "id": "gp2aqoYClKQa",
        "colab": {
          "base_uri": "https://localhost:8080/",
          "height": 185
        },
        "outputId": "47f947b3-50e8-4761-bce7-ff6b069e149b"
      },
      "source": [
        "n=5\n",
        "for i in range(n):\n",
        "  for j in range (i):\n",
        "    print(\"*\",end=' ')\n",
        "  print(\"\")\n",
        "for i in range (n,0,-1):\n",
        "  for j in range (i):\n",
        "    print(\"*\",end=' ')\n",
        "  print(\"\")"
      ],
      "execution_count": null,
      "outputs": [
        {
          "output_type": "stream",
          "text": [
            "\n",
            "* \n",
            "* * \n",
            "* * * \n",
            "* * * * \n",
            "* * * * * \n",
            "* * * * \n",
            "* * * \n",
            "* * \n",
            "* \n"
          ],
          "name": "stdout"
        }
      ]
    },
    {
      "cell_type": "markdown",
      "metadata": {
        "id": "mrR_mF6blKui"
      },
      "source": [
        "# Program 6\n",
        "Write a Python program that prints each item and its corresponding type from the following list.Sample List : datalist = [1452, 11.23, 1+2j, True, 'resource', (0, -1), [5, 12], {\"class\":'V', \"section\":'A'}]"
      ]
    },
    {
      "cell_type": "code",
      "metadata": {
        "id": "axbZ7mHdlNr9",
        "colab": {
          "base_uri": "https://localhost:8080/",
          "height": 151
        },
        "outputId": "3bf10256-2a23-48eb-c184-423ec591db29"
      },
      "source": [
        "datalist = [1452, 11.23, 1+2j, True, 'resource', (0, -1), [5, 12], {\"class\":'V', \"section\":'A'}]\n",
        "for x in (datalist):\n",
        "  print(f\"type of the item {x} is \",type(x))\n"
      ],
      "execution_count": null,
      "outputs": [
        {
          "output_type": "stream",
          "text": [
            "type of the item 1452 is  <class 'int'>\n",
            "type of the item 11.23 is  <class 'float'>\n",
            "type of the item (1+2j) is  <class 'complex'>\n",
            "type of the item True is  <class 'bool'>\n",
            "type of the item resource is  <class 'str'>\n",
            "type of the item (0, -1) is  <class 'tuple'>\n",
            "type of the item [5, 12] is  <class 'list'>\n",
            "type of the item {'class': 'V', 'section': 'A'} is  <class 'dict'>\n"
          ],
          "name": "stdout"
        }
      ]
    },
    {
      "cell_type": "markdown",
      "metadata": {
        "id": "8ZHxXEgDlODf"
      },
      "source": [
        "# Program 7\n",
        "Write a Python program which iterates the integers from 1 to 50. For multiples of three print \"THREE\" instead of the number and for the multiples of five print \"FIVE\". For numbers which are multiples of both three and five print \"THREEFIVE\"."
      ]
    },
    {
      "cell_type": "code",
      "metadata": {
        "id": "p2eCITxHlPbD",
        "colab": {
          "base_uri": "https://localhost:8080/",
          "height": 874
        },
        "outputId": "e14f6269-e4b9-4103-fdc1-711ed46a49b2"
      },
      "source": [
        "for i in range(51):\n",
        " if i%3==0 and i%5==0:\n",
        "   print(\"three five\")\n",
        " elif i%3==0 :\n",
        "   print(\"three\")\n",
        " elif i%5==0:\n",
        "   print(\"five\")\n",
        " else :\n",
        "   print(i)\n"
      ],
      "execution_count": null,
      "outputs": [
        {
          "output_type": "stream",
          "text": [
            "three five\n",
            "1\n",
            "2\n",
            "three\n",
            "4\n",
            "five\n",
            "three\n",
            "7\n",
            "8\n",
            "three\n",
            "five\n",
            "11\n",
            "three\n",
            "13\n",
            "14\n",
            "three five\n",
            "16\n",
            "17\n",
            "three\n",
            "19\n",
            "five\n",
            "three\n",
            "22\n",
            "23\n",
            "three\n",
            "five\n",
            "26\n",
            "three\n",
            "28\n",
            "29\n",
            "three five\n",
            "31\n",
            "32\n",
            "three\n",
            "34\n",
            "five\n",
            "three\n",
            "37\n",
            "38\n",
            "three\n",
            "five\n",
            "41\n",
            "three\n",
            "43\n",
            "44\n",
            "three five\n",
            "46\n",
            "47\n",
            "three\n",
            "49\n",
            "five\n"
          ],
          "name": "stdout"
        }
      ]
    },
    {
      "cell_type": "markdown",
      "metadata": {
        "id": "jcdY_XhllPjK"
      },
      "source": [
        "# Program 8\n",
        "Read a set of 4 bit binary numbers one bit at a time starting from MSB till the user input is 0000. For each input, the program should print whether it is divisible by 5 or not."
      ]
    },
    {
      "cell_type": "code",
      "metadata": {
        "id": "7iKcunI3lQVJ",
        "colab": {
          "base_uri": "https://localhost:8080/",
          "height": 101
        },
        "outputId": "74af8e75-55fd-49a0-8865-5cdf13f305bc"
      },
      "source": [
        "while(True):\n",
        "  msb,hun,ten,lsb = eval(input(\"enter binary digits from MSB one bit a time:\"))\n",
        "  #msb = int(input(\"enter msb digit : \"))\n",
        "  #hun = int(input(\"enter 2nd digit :\"))\n",
        "  #ten = int(input(\"enter 3rd digit :\"))\n",
        "  #lsb = int(input(\"enter lsb digit :\"))\n",
        "  digit = (msb*(2**3)) + (hun*(2**2)) + (ten*2) + lsb\n",
        "  print('decimal digit is ',digit)\n",
        "  if digit==0:\n",
        "    break\n",
        "  elif digit%(5)==0:\n",
        "    print(f\"{digit} is divisible by 5\") \n",
        "  else :\n",
        "    print(f\"{digit} is not divisible by 5\")\n"
      ],
      "execution_count": null,
      "outputs": [
        {
          "output_type": "stream",
          "text": [
            "enter binary digits from MSB one bit a time:1,0,0,0\n",
            "digit is  8\n",
            "8 is not divisible by 5\n",
            "enter binary digits from MSB one bit a time:0,0,0,0\n",
            "digit is  0\n"
          ],
          "name": "stdout"
        }
      ]
    },
    {
      "cell_type": "markdown",
      "metadata": {
        "id": "cO_4ZfoSlQ0C"
      },
      "source": [
        "# Program 9\n",
        "Given a = 0, b = 1 and c = 1 are the first three numbers of some sequence. All other numbers in the sequence are generated from the sum of their three most recent predecessors. Write a Python script to generate ‘n’ terms of this sequence for a given value of ‘n’."
      ]
    },
    {
      "cell_type": "code",
      "metadata": {
        "id": "ZBcbUCXzlSIA",
        "colab": {
          "base_uri": "https://localhost:8080/",
          "height": 302
        },
        "outputId": "7a624185-5d64-4617-817d-87b291adf9fb"
      },
      "source": [
        "a = 0; b=1; c = 1;\n",
        "n = int(input(\"enter n value : \"))\n",
        "print(f'{a}\\n{b}\\n{c}\\n')\n",
        "for i in range (n):\n",
        "  d = a+b+c\n",
        "  print(f'{d}\\n')\n",
        "  a=b ; b=c ; c=d;\n",
        " "
      ],
      "execution_count": null,
      "outputs": [
        {
          "output_type": "stream",
          "text": [
            "enter n value : 6\n",
            "0\n",
            "1\n",
            "1\n",
            "\n",
            "2\n",
            "\n",
            "4\n",
            "\n",
            "7\n",
            "\n",
            "13\n",
            "\n",
            "24\n",
            "\n",
            "44\n",
            "\n"
          ],
          "name": "stdout"
        }
      ]
    },
    {
      "cell_type": "markdown",
      "metadata": {
        "id": "mDKOzTl1lSYo"
      },
      "source": [
        "# Program 10\n",
        "Write a Python script to read the number of digits in a given number and the digits one at a time. Convert the set of digits into a single decimal integer. Sample input : No. of digits : 5 Digits : 2,7,4,9,3 Output : 27493"
      ]
    },
    {
      "cell_type": "code",
      "metadata": {
        "id": "vit6qzwzlT61",
        "colab": {
          "base_uri": "https://localhost:8080/",
          "height": 262
        },
        "outputId": "9489be6c-d2c6-42df-f758-872cc4ee48d6"
      },
      "source": [
        "n = int(input(\"enter the number of digits : \"))\n",
        "p = n-1\n",
        "num=0\n",
        "for i in range (0,n):\n",
        "  digit = input(\"enter the digit :\")\n",
        "  num = num+(digit*(10**p))\n",
        "  p-=1\n",
        "print(\"digit = \",digit)  "
      ],
      "execution_count": null,
      "outputs": [
        {
          "output_type": "stream",
          "text": [
            "enter the number of digits : 3\n",
            "enter the digit :1\n"
          ],
          "name": "stdout"
        },
        {
          "output_type": "error",
          "ename": "TypeError",
          "evalue": "ignored",
          "traceback": [
            "\u001b[0;31m---------------------------------------------------------------------------\u001b[0m",
            "\u001b[0;31mTypeError\u001b[0m                                 Traceback (most recent call last)",
            "\u001b[0;32m<ipython-input-2-8fc4e1946352>\u001b[0m in \u001b[0;36m<module>\u001b[0;34m()\u001b[0m\n\u001b[1;32m      4\u001b[0m \u001b[0;32mfor\u001b[0m \u001b[0mi\u001b[0m \u001b[0;32min\u001b[0m \u001b[0mrange\u001b[0m \u001b[0;34m(\u001b[0m\u001b[0;36m0\u001b[0m\u001b[0;34m,\u001b[0m\u001b[0mn\u001b[0m\u001b[0;34m)\u001b[0m\u001b[0;34m:\u001b[0m\u001b[0;34m\u001b[0m\u001b[0;34m\u001b[0m\u001b[0m\n\u001b[1;32m      5\u001b[0m   \u001b[0mdigit\u001b[0m \u001b[0;34m=\u001b[0m \u001b[0minput\u001b[0m\u001b[0;34m(\u001b[0m\u001b[0;34m\"enter the digit :\"\u001b[0m\u001b[0;34m)\u001b[0m\u001b[0;34m\u001b[0m\u001b[0;34m\u001b[0m\u001b[0m\n\u001b[0;32m----> 6\u001b[0;31m   \u001b[0mnum\u001b[0m \u001b[0;34m=\u001b[0m \u001b[0mnum\u001b[0m\u001b[0;34m+\u001b[0m\u001b[0;34m(\u001b[0m\u001b[0mdigit\u001b[0m\u001b[0;34m*\u001b[0m\u001b[0;34m(\u001b[0m\u001b[0;36m10\u001b[0m\u001b[0;34m**\u001b[0m\u001b[0mp\u001b[0m\u001b[0;34m)\u001b[0m\u001b[0;34m)\u001b[0m\u001b[0;34m\u001b[0m\u001b[0;34m\u001b[0m\u001b[0m\n\u001b[0m\u001b[1;32m      7\u001b[0m   \u001b[0mp\u001b[0m\u001b[0;34m-=\u001b[0m\u001b[0;36m1\u001b[0m\u001b[0;34m\u001b[0m\u001b[0;34m\u001b[0m\u001b[0m\n\u001b[1;32m      8\u001b[0m \u001b[0mprint\u001b[0m\u001b[0;34m(\u001b[0m\u001b[0;34m\"digit = \"\u001b[0m\u001b[0;34m,\u001b[0m\u001b[0mdigit\u001b[0m\u001b[0;34m)\u001b[0m\u001b[0;34m\u001b[0m\u001b[0;34m\u001b[0m\u001b[0m\n",
            "\u001b[0;31mTypeError\u001b[0m: unsupported operand type(s) for +: 'int' and 'str'"
          ]
        }
      ]
    },
    {
      "cell_type": "code",
      "metadata": {
        "id": "3XEF_9pflVnb",
        "colab": {
          "base_uri": "https://localhost:8080/",
          "height": 34
        },
        "outputId": "2d408b12-f470-41c6-ce55-fe3c9c8ed238"
      },
      "source": [
        "a,b,c=10,20,30\n",
        "a = a^b^c ; b= a^b^c ; c=a^b^c ; a=a^b^c\n",
        "print(a,b,c)"
      ],
      "execution_count": null,
      "outputs": [
        {
          "output_type": "stream",
          "text": [
            "30 10 20\n"
          ],
          "name": "stdout"
        }
      ]
    }
  ]
}
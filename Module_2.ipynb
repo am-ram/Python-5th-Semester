{
  "nbformat": 4,
  "nbformat_minor": 0,
  "metadata": {
    "colab": {
      "name": "Lab Questions Ex.4,5,6.ipynb",
      "provenance": [],
      "collapsed_sections": []
    },
    "kernelspec": {
      "name": "python3",
      "display_name": "Python 3"
    }
  },
  "cells": [
    {
      "cell_type": "markdown",
      "metadata": {
        "id": "3iFmCyww-eZT"
      },
      "source": [
        "# <center>               ![image.png](data:image/png;base64,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)</center>\n",
        "<div style=\"text-align: right\">  COURSE TITLE & CODE: Programming in Python & CSE 317\n",
        "\n",
        "SEMESTER/YEAR: VI/III\n",
        "\n",
        "COURSE CREDIT STRUCTURE: 1- 0- 4-3 </div>\n",
        "\n",
        "\n",
        "\n",
        "\n",
        "\n",
        "\t                                                           \n"
      ]
    },
    {
      "cell_type": "markdown",
      "metadata": {
        "id": "O9qfCO52_ZIp"
      },
      "source": [
        "## Name : Sai Ram.K\n",
        "## ID   : 20181CSE0621\n"
      ]
    },
    {
      "cell_type": "markdown",
      "metadata": {
        "id": "4g8KekaNR7Io"
      },
      "source": [
        "<center><h1> Exercise - 4 <br><h1>Strings"
      ]
    },
    {
      "cell_type": "markdown",
      "metadata": {
        "id": "6DyqzOYERRqH"
      },
      "source": [
        "# Question 1\n",
        "1. Write a program that accepts a sentence and calculate the number of upper case letters and lower case letters. Suppose the following input is supplied to the program:\n",
        "\tHello world!\n",
        "\tThen, the output should be:\n",
        "\tUPPER CASE 1\n",
        "\tLOWER CASE 9\n"
      ]
    },
    {
      "cell_type": "code",
      "metadata": {
        "id": "bLX8SEccRZQv",
        "colab": {
          "base_uri": "https://localhost:8080/",
          "height": 50
        },
        "outputId": "9d8d3c8b-cee1-4723-fa27-d14afa3c08e0"
      },
      "source": [
        "string = input(\"Enter a sentence : \")\n",
        "up=0 ; low = 0\n",
        "for letter in string:\n",
        "  if (letter.isupper()):\n",
        "    up+=1\n",
        "  else :\n",
        "    low+=1\n",
        "print(\"Uppercase letters = \",up,\"Lowercase letters = \",low)\n"
      ],
      "execution_count": null,
      "outputs": [
        {
          "output_type": "stream",
          "text": [
            "Enter a sentence : ABcdEF\n",
            "Uppercase letters =  4 Lowercase letters =  2\n"
          ],
          "name": "stdout"
        }
      ]
    },
    {
      "cell_type": "markdown",
      "metadata": {
        "id": "o8O6x9eSRZen"
      },
      "source": [
        "# Question 2\n",
        "2. Write a program that accepts a sentence and calculate the number of letters and digits. Suppose the following input is supplied to the program:\n",
        "Hello world! 123\n",
        "Then, the output should be:\n",
        "LETTERS 10\n",
        "DIGITS 3\n"
      ]
    },
    {
      "cell_type": "code",
      "metadata": {
        "id": "wEgL9y90RgVq",
        "colab": {
          "base_uri": "https://localhost:8080/",
          "height": 50
        },
        "outputId": "37128539-4305-4969-dde2-070476ef43d7"
      },
      "source": [
        "string = input(\"Enter a sentence : \")\n",
        "let=0 ; dig=0\n",
        "for letter in string:\n",
        "  if (letter.isdigit()):\n",
        "    dig+=1\n",
        "  else : let+=1\n",
        "print(\"Letters = \",let,\" Digits = \",dig)\n"
      ],
      "execution_count": null,
      "outputs": [
        {
          "output_type": "stream",
          "text": [
            "Enter a sentence : Mobile number is 9876543210\n",
            "Letters =  17  Digits =  10\n"
          ],
          "name": "stdout"
        }
      ]
    },
    {
      "cell_type": "markdown",
      "metadata": {
        "id": "5kNU7NCcRgj5"
      },
      "source": [
        "# Question 3\n",
        "3. Arrange String characters such that lowercase letters should come first. Given input String of combination of the lower and upper case arrange characters in such a way that all lowercase letters should come first.\n",
        "Expected Output:<br>\n",
        "Input String: PyNaTive<br>\n",
        "Output_String: yaivePNT<br>\n"
      ]
    },
    {
      "cell_type": "code",
      "metadata": {
        "id": "thCNHAwLRms-",
        "colab": {
          "base_uri": "https://localhost:8080/",
          "height": 50
        },
        "outputId": "42a4f1e3-e1d5-461a-d122-e2bb2fb9881d"
      },
      "source": [
        "string = input(\"Enter a string : \")\n",
        "up=[] ; low=[]\n",
        "for letter in string:\n",
        "  if (letter.isupper()):\n",
        "    up.append(letter)\n",
        "  else :\n",
        "    low.append(letter)\n",
        "final = ''.join(low + up)\n",
        "print(final)"
      ],
      "execution_count": null,
      "outputs": [
        {
          "output_type": "stream",
          "text": [
            "Enter a string : AnTIBioTicS\n",
            "nioicATIBTS\n"
          ],
          "name": "stdout"
        }
      ]
    },
    {
      "cell_type": "markdown",
      "metadata": {
        "id": "tyG8LmBnRnC2"
      },
      "source": [
        "# Question 4\n",
        "4. Write a Python program to count repeated characters in a string.\n",
        "           Sample string: 'thequickbrownfoxjumpsoverthelazydog'\n",
        "          Expected output:\n",
        "           o 4\n",
        "           e 3\n",
        "           u 2\n",
        "           h 2\n",
        "           r 2\n",
        "           t 2\n"
      ]
    },
    {
      "cell_type": "code",
      "metadata": {
        "id": "m33mJ99ORrVd",
        "colab": {
          "base_uri": "https://localhost:8080/",
          "height": 151
        },
        "outputId": "830e5a30-7dd2-4cc4-978b-37dba4513ec4"
      },
      "source": [
        "import collections\n",
        "string = input(\"Enter the string : \")\n",
        "count = collections.defaultdict(int)\n",
        "for c in string:\n",
        "    count[c] += 1\n",
        "\n",
        "for c in sorted(count, key=count.get, reverse=True):\n",
        "  if count[c] > 1:\n",
        "      print('%s %d' % (c, count[c]))"
      ],
      "execution_count": null,
      "outputs": [
        {
          "output_type": "stream",
          "text": [
            "Enter the string : An apple a day keeps a doctor away\n",
            "  7\n",
            "a 6\n",
            "p 3\n",
            "e 3\n",
            "d 2\n",
            "y 2\n",
            "o 2\n"
          ],
          "name": "stdout"
        }
      ]
    },
    {
      "cell_type": "markdown",
      "metadata": {
        "id": "Vbz-xVDZRsJd"
      },
      "source": [
        "# Question 5\n",
        "5. Write a program to find the first occurrence of word in a string. \n",
        "Input <br>\n",
        "Input string: I love programming!<br>\n",
        "Input word to search: love<br>\n",
        "Output<br>\n",
        "'love' is found at index 2.<br>\n"
      ]
    },
    {
      "cell_type": "code",
      "metadata": {
        "id": "N7UMI-GQRvMc",
        "colab": {
          "base_uri": "https://localhost:8080/",
          "height": 67
        },
        "outputId": "10ab3df9-c812-4cd2-99dd-621e698c5c9b"
      },
      "source": [
        "string = input(\"Enter a string : \")\n",
        "word = input('Enter search word : ')\n",
        "print(f\"{word} is found at index \",string.find(word))"
      ],
      "execution_count": null,
      "outputs": [
        {
          "output_type": "stream",
          "text": [
            "Enter a string : I love programming!\n",
            "Enter search word : love\n",
            "love is found at index  2\n"
          ],
          "name": "stdout"
        }
      ]
    },
    {
      "cell_type": "markdown",
      "metadata": {
        "id": "SCJEcrDwRvWk"
      },
      "source": [
        "# Question 6\n",
        "6. Write a  program to count frequency of each character in a string using loop. How to find frequency of each characters in a string in C programming. Logic to count frequency of each character in a given string in C program.\n",
        "Input string: Codeforwin\n",
        "Output<br>\n",
        "Frequency of all characters in the given string:<br>\n",
        "'c' = 1<br>\n",
        "'d' = 1<br>\n",
        "'e' = 1<br>\n",
        "'f' = 1<br>\n",
        "'i' = 1<br>\n",
        "'n' = 1<br>\n",
        "'o' = 2<br>\n",
        "'r' = 1<br>\n",
        "'w' = 1<br>\n"
      ]
    },
    {
      "cell_type": "code",
      "metadata": {
        "id": "8TNqH_4xR0vO",
        "colab": {
          "base_uri": "https://localhost:8080/",
          "height": 269
        },
        "outputId": "e24bee01-7940-49a7-b3e3-0843cdd5a4ad"
      },
      "source": [
        "count = {} \n",
        "string = input(\"Enter the string : \")\n",
        "for i in string:\n",
        "  if i in count:\n",
        "    count[i]+=1\n",
        "  else :\n",
        "    count[i]=1\n",
        "#print(count.items())\n",
        "for i in count:\n",
        "    print (i,'=',count[i])"
      ],
      "execution_count": null,
      "outputs": [
        {
          "output_type": "stream",
          "text": [
            "Enter the string : anappleadaykeepsadoctoraway\n",
            "a = 7\n",
            "n = 1\n",
            "p = 3\n",
            "l = 1\n",
            "e = 3\n",
            "d = 2\n",
            "y = 2\n",
            "k = 1\n",
            "s = 1\n",
            "o = 2\n",
            "c = 1\n",
            "t = 1\n",
            "r = 1\n",
            "w = 1\n"
          ],
          "name": "stdout"
        }
      ]
    },
    {
      "cell_type": "markdown",
      "metadata": {
        "id": "0PICFSeER03l"
      },
      "source": [
        "# Question 7\n",
        "7. Write a program to read any string from user and remove last occurrence of a given character from the string. <br>\n",
        "Input string: I love programming. I love Codeforwin.<br>\n",
        "Input character to remove: I<br>\n",
        "Output<br>\n",
        "String after removing last ‘I’: I love programming. love Codeforwin.<br>\n",
        "\n"
      ]
    },
    {
      "cell_type": "code",
      "metadata": {
        "id": "nzmm1qjXR4g0",
        "colab": {
          "base_uri": "https://localhost:8080/",
          "height": 69
        },
        "outputId": "fa99e816-dce7-40d1-daff-2051e972c7b4"
      },
      "source": [
        "string = input(\"Enter a string : \")\n",
        "rem = input(\"Enter character to be removed : \")\n",
        "x = string.replace(rem,'')\n",
        "x\n"
      ],
      "execution_count": null,
      "outputs": [
        {
          "output_type": "stream",
          "text": [
            "Enter a string : I love programming. I love Codeforwin.\n",
            "Enter character to be removed : love\n"
          ],
          "name": "stdout"
        },
        {
          "output_type": "execute_result",
          "data": {
            "application/vnd.google.colaboratory.intrinsic+json": {
              "type": "string"
            },
            "text/plain": [
              "'I  programming. I  Codeforwin.'"
            ]
          },
          "metadata": {
            "tags": []
          },
          "execution_count": 8
        }
      ]
    },
    {
      "cell_type": "markdown",
      "metadata": {
        "id": "Is9dq5rLR4tf"
      },
      "source": [
        "<center> <h1> Exercise - 5 <br> <h1> Lists\n"
      ]
    },
    {
      "cell_type": "markdown",
      "metadata": {
        "id": "s7O996ZNSRy1"
      },
      "source": [
        "# Question 1\n",
        "1. Create an empty list and read the BMI of ‘n’ people. Check each value and display the category as shown.\n",
        "\n",
        "![image.png](data:image/png;base64,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)\n",
        "\n",
        "1. Read the list of BMI \n",
        "2. Compare each BMI, as per the BMI and category, display the list of BMI in each category \n",
        "\n",
        "INPUT and OUTPUT <br>\n",
        " [16.5, 17, 20, 21, 25] <br>\n",
        "Underweight [16.5, 17] <br>\n",
        "Normal Range [20, 21] <br>\n",
        "Overweight [25]<br>\n",
        "\n"
      ]
    },
    {
      "cell_type": "code",
      "metadata": {
        "id": "UDKC3vcXSddN",
        "colab": {
          "base_uri": "https://localhost:8080/",
          "height": 84
        },
        "outputId": "b50ec036-ad70-4326-fee1-6fadc7fbc054"
      },
      "source": [
        "lst =[float(lst) for lst in input(f\"Enter BMI of 'n' persons : \").split(',')]\n",
        "uw =[] ; nr=[] ; ow=[]\n",
        "for bmi in lst:\n",
        "  if (bmi>=0 and bmi<=18.5):\n",
        "    uw.append(bmi)\n",
        "  elif (bmi>18.5 and bmi<23):\n",
        "    nr.append(bmi)\n",
        "  elif (bmi>=23 and bmi<=25):\n",
        "    ow.append(bmi)\n",
        "print(f\"Underweight = {uw} \\n Normal Range = {nr} \\n Overweight= {ow}\" )"
      ],
      "execution_count": null,
      "outputs": [
        {
          "output_type": "stream",
          "text": [
            "Enter BMI of 'n' persons : 16.5,17,20,21,25\n",
            "Underweight = [16.5, 17.0] \n",
            " Normal Range = [20.0, 21.0] \n",
            " Overweight= [25.0]\n"
          ],
          "name": "stdout"
        }
      ]
    },
    {
      "cell_type": "markdown",
      "metadata": {
        "id": "Bibey8XiSeTf"
      },
      "source": [
        "# Question 2\n",
        "2. Given a list of numbers, write a Python program to count Even and Odd numbers in a List.\n",
        "\n",
        "Input: list1 = [2, 7, 5, 64, 14]\n",
        "Output: Even = 3, odd = 2\n",
        "\n",
        "Input: list2 = [12, 14, 95, 3]\n",
        "Output: Even = 2, odd = 2\n",
        "\n"
      ]
    },
    {
      "cell_type": "code",
      "metadata": {
        "id": "Nw2-68cfSj20",
        "colab": {
          "base_uri": "https://localhost:8080/",
          "height": 50
        },
        "outputId": "b766208c-8ce2-4f9d-97e6-be25dc7a15db"
      },
      "source": [
        "lst = [int(lst) for lst in input(\"enter n integers : \").split(',')]\n",
        "even=0; odd=0\n",
        "for num in lst:\n",
        "  if (num%2==0):\n",
        "    even+=1\n",
        "  else : odd+=1\n",
        "print(\"even = \",even,\"odd = \",odd)\n"
      ],
      "execution_count": null,
      "outputs": [
        {
          "output_type": "stream",
          "text": [
            "enter n integers : 12,14,95,3\n",
            "even =  2 odd =  2\n"
          ],
          "name": "stdout"
        }
      ]
    },
    {
      "cell_type": "markdown",
      "metadata": {
        "id": "aERkO5RwSkAW"
      },
      "source": [
        "# Question 3\n",
        "3. Write a program to print index at which particular value exists. If the value exists at multiple location in the list, then print all the indices. Also count the number of times that value is repeated in the list. \n",
        "INPUT:<br>\n",
        "L1 0, 1,2,4,5,5,6,4<br>\n",
        "Enter the value to be searched: 4<br>\n",
        "OUTPUT: <br>\n",
        "4 found at location 3 <br>\n",
        "4 found at location 7 <br>\n",
        "4 appears 2 times in the list<br>\n"
      ]
    },
    {
      "cell_type": "code",
      "metadata": {
        "id": "LiprhF7eSnhM",
        "colab": {
          "base_uri": "https://localhost:8080/",
          "height": 101
        },
        "outputId": "2c1732f6-c5a1-4389-e3a9-e3c1ef011671"
      },
      "source": [
        "lst = [int(lst) for lst in input('Enter the list of integers : ').split(',')]\n",
        "key = int(input('Enter the value to be searched for : '))\n",
        "res = [i for i in range(len(lst)) if lst[i] == key] \n",
        "for i in res:\n",
        "  print(f\"{key} found at location {i}\")\n",
        "print(f'{key} appears {len(res)} times in the list')"
      ],
      "execution_count": null,
      "outputs": [
        {
          "output_type": "stream",
          "text": [
            "Enter the list of integers : 1,2,4,6,5,4,7\n",
            "Enter the value to be searched for : 4\n",
            "4 found at location 2\n",
            "4 found at location 5\n",
            "4 appears 2 times in the list\n"
          ],
          "name": "stdout"
        }
      ]
    },
    {
      "cell_type": "markdown",
      "metadata": {
        "id": "UjHynUNISnzi"
      },
      "source": [
        "# Question 4\n",
        "4. Create an empty list to insert ‘n’ string values given by the user. Later, print all the elements of the list starting from some specific item from the list mentioned by the user. If the specified item is not found in the list, then print all the elements of the list. \n",
        "OUTPUT: \n",
        "Test Case 1: \n",
        "L= ['bus', 'car', 'train', 'flight', 'boat'] <br>\n",
        "Enter the list item to print from: car<br> \n",
        " ['car', 'train', 'flight', 'boat'] <br>\n",
        "Test Case 2:<br>\n",
        "Enter the list item to print from: bike<br>\n",
        "bike Not Found <br>\n",
        "['bus',”car”, 'train', 'flight', 'boat']<br>\n",
        "\n"
      ]
    },
    {
      "cell_type": "code",
      "metadata": {
        "id": "8WJrO2b0Sqgu",
        "colab": {
          "base_uri": "https://localhost:8080/",
          "height": 67
        },
        "outputId": "3b2b7421-4311-45c6-b199-4000f94b4d31"
      },
      "source": [
        "lst = [lst for lst in input(\"Enter strings : \").split(',')]\n",
        "key = input(\"Enter item to print from : \")\n",
        "if key in lst:\n",
        "  x = lst.index(key)\n",
        "  print(lst[x:])\n",
        "else:\n",
        "  print(\"Not Found\")"
      ],
      "execution_count": null,
      "outputs": [
        {
          "output_type": "stream",
          "text": [
            "Enter strings : car,train,bus,flight,boat\n",
            "Enter item to print from : bus\n",
            "['bus', 'flight', 'boat']\n"
          ],
          "name": "stdout"
        }
      ]
    },
    {
      "cell_type": "markdown",
      "metadata": {
        "id": "ZPZEstlKSqob"
      },
      "source": [
        "# Question 5\n",
        "5. Write a program that computes the net amount of a bank account based a transaction log from console input (read the list of transaction from the users and compute the net amount). The transaction log format is shown as following:\n",
        "D 100 <br>\n",
        "W 200<br>\n",
        "\n",
        "D means deposit while W means withdrawal.<br>\n",
        "Suppose the following input is supplied to the program:<br>\n",
        "D 300<br>\n",
        "D 300<br>\n",
        "W 200<br>\n",
        "D 100<br>\n",
        "Then, the output should be:<br>\n",
        "500<br>\n",
        "\n"
      ]
    },
    {
      "cell_type": "code",
      "metadata": {
        "id": "UJYk02I6S9_M",
        "colab": {
          "base_uri": "https://localhost:8080/",
          "height": 50
        },
        "outputId": "83179a98-6625-468f-8309-b6a8f60a2390"
      },
      "source": [
        "amt = [ amt for amt in input(\"Enter complete transaction details (D amt/ W amt) : \").split(',')]\n",
        "amt = sorted(amt)\n",
        "dep=[];wit=[] \n",
        "for x in amt :\n",
        "  if x[0]=='D':\n",
        "    dep.append(x)\n",
        "  else :\n",
        "    wit.append(x)\n",
        "dsum = 0 ; wsum = 0\n",
        "for i in dep : \n",
        "  i=i.split(' ')\n",
        "  dsum = int(i[1]) + dsum\n",
        "for j in wit : \n",
        "  j=j.split(' ')\n",
        "  wsum = int(j[1]) + wsum\n",
        "print(\"Net amount = \",(int(dsum) - int(wsum)))\n"
      ],
      "execution_count": null,
      "outputs": [
        {
          "output_type": "stream",
          "text": [
            "Enter complete transaction details (D amt/ W amt) : D 300,D 300,W 200,D 100\n",
            "Net amount =  500\n"
          ],
          "name": "stdout"
        }
      ]
    },
    {
      "cell_type": "markdown",
      "metadata": {
        "id": "Oc3BSJFQS-WJ"
      },
      "source": [
        "# Question 6\n",
        "\n",
        "6. Generates 100 lowercase letters randomly and assigns them to a list of characters, Named chars, as shown figure (a). \n",
        "![image.png](data:image/png;base64,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)\n",
        "\n",
        " \n",
        "The chars list stores 100 characters, and the counts list stores 26 counts shown in the figure (b), each of which counts the occurrences of a letter. Write a python program to achieve the above operation. \n",
        "\n",
        "Sample Input and Output:\n",
        "\n",
        "The lowercase letters are: <br>\n",
        "e y l s r i b k j v j h a b z n w b t v<br>\n",
        "s c c k r d w a m p w v u n q a m p l o<br>\n",
        "a z g d e g f i n d x m z o u l o z j v<br>\n",
        "h w i w n t g x w c d o t x h y v z y z<br>\n",
        "q e a m f w p g u q t r e n n w f c r f<br>\n",
        "\n",
        "The occurrences of each letter are:<br>\n",
        "5 a 3 b 4 c 4 d 4 e 4 f 4 g 3 h 3 i 3 j<br>\n",
        "2 k 3 l 4 m 6 n 4 o 3 p 3 q 4 r 2 s 4 t<br>\n",
        "3 u 5 v 8 w 3 x 3 y 6 z<br>\n"
      ]
    },
    {
      "cell_type": "code",
      "metadata": {
        "id": "p5Znw2D9TNbJ",
        "colab": {
          "base_uri": "https://localhost:8080/",
          "height": 104
        },
        "outputId": "6ed9c800-ff91-4f56-e7cf-75f9936227b6"
      },
      "source": [
        "import random as rd\n",
        "chars=[]\n",
        "for i in range(100):\n",
        "  x = rd.randint(97,122)\n",
        "  chars.append(chr(x))\n",
        "print(\"lower case letters are : \")\n",
        "#for x in range(len(chars)):\n",
        "print(chars)\n",
        "import collections\n",
        "counter=collections.Counter(chars)\n",
        "print(\"Count of occurences is \")\n",
        "print(counter)"
      ],
      "execution_count": null,
      "outputs": [
        {
          "output_type": "stream",
          "text": [
            "lower case letters are : \n",
            "['e', 't', 'f', 'n', 'o', 'g', 'm', 'e', 'b', 'k', 'f', 'j', 'e', 's', 't', 'u', 'a', 'c', 'r', 'n', 'n', 'p', 's', 'n', 'l', 'd', 'd', 'l', 'l', 'f', 'j', 't', 'm', 'p', 'x', 'v', 'u', 'd', 'r', 'l', 'q', 'n', 'u', 's', 'c', 'r', 'j', 'd', 'b', 'w', 'k', 'n', 'k', 'l', 'z', 'j', 'd', 'h', 'r', 'w', 'v', 'k', 'n', 'y', 'y', 'z', 'e', 'x', 'p', 'm', 'h', 'g', 'x', 'n', 'e', 'm', 'j', 'w', 'u', 'q', 't', 'b', 'x', 'l', 'f', 'h', 'm', 'v', 's', 'a', 'd', 'q', 'u', 'b', 's', 'q', 'w', 'h', 'e', 'e']\n",
            "Count of occurences is \n",
            "Counter({'n': 8, 'e': 7, 'l': 6, 'd': 6, 'm': 5, 'j': 5, 's': 5, 'u': 5, 't': 4, 'f': 4, 'b': 4, 'k': 4, 'r': 4, 'x': 4, 'q': 4, 'w': 4, 'h': 4, 'p': 3, 'v': 3, 'g': 2, 'a': 2, 'c': 2, 'z': 2, 'y': 2, 'o': 1})\n"
          ],
          "name": "stdout"
        }
      ]
    },
    {
      "cell_type": "markdown",
      "metadata": {
        "id": "TA9yZtZtTNrD"
      },
      "source": [
        "# Question 7\n",
        "7. CIT College need the library automation application which should perform the following functionalities. <br>\n",
        "<br>\n",
        "I.\tThe following details must be there for each Book<br>\n",
        "i.\tbookTitle<br>\n",
        "ii.\tbookAuthor<br>\n",
        "iii.\tbookNoOfCopies<br>\n",
        "iv.\tbookAvailability<br>\n",
        "v.\tbookEdition<br>\n",
        "vi.\tbookPublisher<br>\n",
        "II.\tAdd the Book details into library automation application<br>\n",
        "III.\tUpdate the Book details in library automation application<br>\n",
        "IV.\tDisplay the Book list with all details in a proper and neat format.<br>\n",
        "V.\tDisplay the list of books of  Ashok Nandev author<br>\n",
        "\n",
        "\n"
      ]
    },
    {
      "cell_type": "code",
      "metadata": {
        "id": "igLQXw58Ti9R",
        "colab": {
          "base_uri": "https://localhost:8080/",
          "height": 134
        },
        "outputId": "5aa726c2-7d2f-421f-e95e-568cb20d244a"
      },
      "source": [
        "lst = input(\"Enter title,author,no.of copies,availability,edition & publisher : \").split(' ')\n",
        "lib =[]\n",
        "for book in lst:\n",
        "  lib.append(book)\n",
        "for i in range(len(lib)):\n",
        "  print(\"Title \\t\\t | \",lib[0]) ; print(\"author \\t\\t | \",lib[1]) ; print(\"no.of copies \\t\\t | \",lib[2]) ; print(\"availability \\t \\t | \",lib[3])\n",
        "  print(\"edition  \\t\\t | \",lib[4]) ; print(\"publisher \\t\\t | \",lib[5]) \n",
        "  break\n"
      ],
      "execution_count": null,
      "outputs": [
        {
          "output_type": "stream",
          "text": [
            "Enter title,author,no.of copies,availability,edition & publisher : HarryPotter JK.Rowling 2 Yes edition.12.2 Marcos\n",
            "Title \t\t |  HarryPotter\n",
            "author \t\t |  JK.Rowling\n",
            "no.of copies \t\t |  2\n",
            "availability \t \t |  Yes\n",
            "edition  \t\t |  edition.12.2\n",
            "publisher \t\t |  Marcos\n"
          ],
          "name": "stdout"
        }
      ]
    },
    {
      "cell_type": "markdown",
      "metadata": {
        "id": "ZgRbgAVDTkDN"
      },
      "source": [
        "# Question 8\n",
        "8. Given a list of integers with duplicate elements in it. The task to generate another list, which contains only the duplicate elements. In simple words, the new list should contain the elements which appear more than one.<br>\n",
        "\n",
        "Input: list = [10, 20, 30, 20, 20, 30, 40, 50, -20, 60, 60, -20, -20]<br>\n",
        "\n",
        "Output: output_list = [20, 30, -20, 60]<br>\n",
        "\n",
        "Input:  list = [-1, 1, -1, 8]<br>\n",
        "\n",
        "Output: output_list = [-1]<br>\n",
        "\n"
      ]
    },
    {
      "cell_type": "code",
      "metadata": {
        "id": "ea8DhzDcTrDH",
        "colab": {
          "base_uri": "https://localhost:8080/",
          "height": 168
        },
        "outputId": "31061212-8e4a-4565-ba04-33933ef48dbe"
      },
      "source": [
        "lst = [lst for lst in input(\"Enter values : \").split(',')]\n",
        "dup=[]\n",
        "for i in range(0, len(lst)):    \n",
        "    for j in range(i+1, len(lst)):    \n",
        "        if(lst[i] == lst[j]):    \n",
        "            print(lst[i])    \n"
      ],
      "execution_count": null,
      "outputs": [
        {
          "output_type": "stream",
          "text": [
            "Enter values : 10,20,30,20,20,30,40,50,-20,60,60,-20,-20\n",
            "20\n",
            "20\n",
            "30\n",
            "20\n",
            "-20\n",
            "-20\n",
            "60\n",
            "-20\n"
          ],
          "name": "stdout"
        }
      ]
    },
    {
      "cell_type": "markdown",
      "metadata": {
        "id": "oyKTnnI1uHHM"
      },
      "source": [
        "<center><h1> Exercise - 6 <br><h1>Dictionaries"
      ]
    },
    {
      "cell_type": "markdown",
      "metadata": {
        "id": "46-7usrNuK_u"
      },
      "source": [
        "# Question 1\n",
        "1. Write python program to read name of the day and the corresponding temperature of days in a week and store it in dictionary. Find the temperature for any day of the week using a dictionary\n",
        "Input and Output: <br>\n",
        " Enter the day: SUN<br>\n",
        "\n",
        "Enter the temperature: 31<br>\n",
        "Enter the day: MON<br>\n",
        "Enter the temperature: 27<br>\n",
        "Enter the day: TUE<br>\n",
        "Enter the temperature: 26<br>\n",
        "Enter the day: WED<br>\n",
        "Enter the temperature: 31<br>\n",
        "Enter the day: THUR<br>\n",
        "Enter the temperature: 25<br>\n",
        "Enter the day: FRI<br>\n",
        "Enter the temperature: 27<br>\n",
        "Enter the day: SAT<br>\n",
        "Enter the temperature: 31<br>\n",
        "\n",
        "Enter a day - SUN, MON, TUE, WED, THUR, FRI or SAT: <br>\n",
        "SUN <br>\n",
        "The temperature 31.0<br>\n"
      ]
    },
    {
      "cell_type": "code",
      "metadata": {
        "id": "qGPqMXNuuR72",
        "colab": {
          "base_uri": "https://localhost:8080/",
          "height": 84
        },
        "outputId": "f5d5f5df-9fb1-458a-f3a9-9effd8218c8a"
      },
      "source": [
        "days = [days for days in input(\"Enter days : \").split(',')]\n",
        "temp = [temp for temp in input(f\"Enter temperature : \").split(',')]\n",
        "d = dict(zip(days,temp)) \n",
        "find = input(\"Enter day to know temp : \")\n",
        "print(d[find],'^C is the temperature on ',find)\n"
      ],
      "execution_count": null,
      "outputs": [
        {
          "output_type": "stream",
          "text": [
            "Enter days : sun,mon,tue\n",
            "Enter temperature : 84,77,66\n",
            "Enter day to know temp : mon\n",
            "77 is the temperature on  mon\n"
          ],
          "name": "stdout"
        }
      ]
    },
    {
      "cell_type": "markdown",
      "metadata": {
        "id": "ENaFBqICuSH7"
      },
      "source": [
        "#Question 2\n",
        "2. Given an array of names of candidates in an election. A candidate name in array represents a vote casted to the candidate. Print the name of candidates received Max vote. If there is tie, print lexicographically smaller name.<br>\n",
        "Examples:<br>\n",
        "Input:  votes = [\"Raja\", \"Raja\", \"Elango\", \n",
        "                \"Elango\", \"Elango\", \"Elango\",\n",
        "                \"Elango\", \"john\", \"john\",\n",
        "                \"Alfred\", \"Raja\", \"Raja\", \n",
        "                \"Raja\"];\n",
        "Output: Elango<br>\n",
        "We have four Candidates with name as 'Raja', <br>\n",
        "'Elango', 'john', 'Alfred'. The candidates<br>\n",
        "Raja and Elango get maximum votes. Since Elango is alphabetically smaller, we print it.\n",
        "\n"
      ]
    },
    {
      "cell_type": "code",
      "metadata": {
        "id": "UHSlndfCuUFT",
        "colab": {
          "base_uri": "https://localhost:8080/",
          "height": 50
        },
        "outputId": "c4af9d69-f76f-4116-87a0-c93b8834f28d"
      },
      "source": [
        "from collections import  Counter\n",
        "votes = [votes for votes in input(\"Enter votes : \").split(',')] ; cnt=Counter(votes)\n",
        "max_votes = max(cnt.values()) \n",
        "lst=[i for i in cnt.keys() if cnt[i]==max_votes]\n",
        "print(sorted(lst)[0])\n"
      ],
      "execution_count": null,
      "outputs": [
        {
          "output_type": "stream",
          "text": [
            "Enter votes : \"Raja\", \"Raja\", \"Elango\", \"Elango\", \"Elango\", \"Elango\", \"Elango\", \"john\", \"john\",\"Alfred\", \"Raja\", \"Raja\", \"Raja\"\n",
            " \"Elango\"\n"
          ],
          "name": "stdout"
        }
      ]
    },
    {
      "cell_type": "markdown",
      "metadata": {
        "id": "P_rGXN2muUaL"
      },
      "source": [
        "#Question 3\n",
        "3. Write a program performing the following tasks over the dictionary: phonebook= {’John’: \"00903234561\",’Mary’: \"02359332865\",’Bill’: \"004934784530\"}<br>\n",
        "I.\treturn all names of the phonebook (use function keys(), i.e. tel.keys())<br>\n",
        "II.\treturn all phone numbers of the phonebook (use function values())<br>\n",
        "III.\treturn all names and phone numbers in tuples of type (name,tel) (use function items())<br>\n",
        "IV.\task for an alphabetically sorted telephone book<br>\n",
        "V.\task for the phone number for Mary (you can access values by using dict[key])<br>\n",
        "VI.\tadd new entries in the phonebook (use the function update(key=value) and tel[key] = value)<br>\n",
        "VII.\tdelete an entry (you can use: del dict[key]))<br>\n",
        "VIII.\tcheck whether there is \"John\" on the phonebook (use: key in dict)<br>\n"
      ]
    },
    {
      "cell_type": "code",
      "metadata": {
        "id": "jYtW_fTouWM3",
        "colab": {
          "base_uri": "https://localhost:8080/",
          "height": 336
        },
        "outputId": "da5447ed-8a5e-43a5-fb75-0d6e7939ebd4"
      },
      "source": [
        "name=[name for name in input(\"Enter the names of contact : \").split(\",\")]\n",
        "num =[num for num in input(\"ENter number of the contact : \").split(',')]\n",
        "tel=dict(zip(name,num))\n",
        "print(\"Names in phonebook :- \\n\",tel.keys())\n",
        "print(\"Numbers in phonebook :- \\n\",tel.values())\n",
        "print(\"Names with numbers :-\\n\",tel.items())\n",
        "print(\"Sorted contacts :-\\n\",sorted(tel))\n",
        "x=input(\"Enter contact name to get number : \")\n",
        "print(f\"{x}'s number is {tel[x]}\")\n",
        "y=input(\"Enter contact name to add : \")\n",
        "z=input(f\"Enter {y}`s number : \")\n",
        "tel.update({y:z})\n",
        "print(tel)\n",
        "a=input(\"Enter name to delete : \")\n",
        "del tel[a] ; print(tel)\n",
        "key = input(\"Enter name to search : \")\n",
        "if key in tel:\n",
        "  print(f\"{key}'s contact is in the phonebook\")"
      ],
      "execution_count": null,
      "outputs": [
        {
          "output_type": "stream",
          "text": [
            "Enter the names of contact : ram,mary,john,chand\n",
            "ENter number of the contact : 2001,8861,8762,1601\n",
            "Names in phonebook :- \n",
            " dict_keys(['ram', 'mary', 'john', 'chand'])\n",
            "Numbers in phonebook :- \n",
            " dict_values(['2001', '8861', '8762', '1601'])\n",
            "Names with numbers :-\n",
            " dict_items([('ram', '2001'), ('mary', '8861'), ('john', '8762'), ('chand', '1601')])\n",
            "Sorted contacts :-\n",
            " ['chand', 'john', 'mary', 'ram']\n",
            "Enter contact name to get number : mary\n",
            "mary's number is 8861\n",
            "Enter contact name to add : sai\n",
            "Enter sai`s number : 9481\n",
            "{'ram': '2001', 'mary': '8861', 'john': '8762', 'chand': '1601', 'sai': '9481'}\n",
            "Enter name to delete : sai\n",
            "{'ram': '2001', 'mary': '8861', 'john': '8762', 'chand': '1601'}\n",
            "Enter name to search : john\n",
            "john's contact is in the phonebook\n"
          ],
          "name": "stdout"
        }
      ]
    },
    {
      "cell_type": "markdown",
      "metadata": {
        "id": "QQkmptHguWpN"
      },
      "source": [
        "#Question 4\n",
        "4. Given a sentence containing n words/strings. Remove all duplicates words/strings which are similar \n",
        "    to each other’s.<br>\n",
        "\n",
        "Input: Python is great and Java is also great<br>\n",
        "Output:  Python is great and Java also<br>\n"
      ]
    },
    {
      "cell_type": "code",
      "metadata": {
        "id": "u-VPtz7XuYcL",
        "colab": {
          "base_uri": "https://localhost:8080/",
          "height": 50
        },
        "outputId": "3d4d1f01-1775-4965-e537-d73bd7d47807"
      },
      "source": [
        "\n",
        "s = input(\"enter a string : \")\n",
        "l = s.split() \n",
        "k = [] \n",
        "for i in l:  \n",
        "\tif (s.count(i)>1 and (i not in k)or s.count(i)==1): \n",
        "\t\tk.append(i) \n",
        "print(' '.join(k)) \n"
      ],
      "execution_count": null,
      "outputs": [
        {
          "output_type": "stream",
          "text": [
            "enter a string : Python is great and Java is also great\n",
            "Python is great and Java also\n"
          ],
          "name": "stdout"
        }
      ]
    },
    {
      "cell_type": "markdown",
      "metadata": {
        "id": "xQhgwjdyuYrM"
      },
      "source": [
        "# Question 5\n",
        "5. Write a function called wordcount () that accepts a list of strings returns a dictionary where the keys are the words and the values are the number of times that word appears.<br>\n",
        "Input and Output: <br>\n",
        "Enter the String Python is great and Java is also great<br>\n",
        "{'Python': 1, 'is': 2, 'great': 2, 'and': 1, 'Java': 1, 'also': 1}<br>\n"
      ]
    },
    {
      "cell_type": "code",
      "metadata": {
        "id": "-z_Q4LRAuaGD",
        "colab": {
          "base_uri": "https://localhost:8080/",
          "height": 67
        },
        "outputId": "19fd1de6-f002-4c18-d0ec-448b0f16184d"
      },
      "source": [
        "from collections import  Counter\n",
        "def wordcount():\n",
        "  lst=[lst for lst in input(\"Enter strings : \").split(' ')]\n",
        "  count=Counter(lst)\n",
        "  print(\"Count and Occurences are :-\\n\",count)\n",
        "wordcount()\n"
      ],
      "execution_count": null,
      "outputs": [
        {
          "output_type": "stream",
          "text": [
            "Enter strings : Python is great and Java is also great.\n",
            "Count and Occurences are :-\n",
            " Counter({'is': 2, 'Python': 1, 'great': 1, 'and': 1, 'Java': 1, 'also': 1, 'great.': 1})\n"
          ],
          "name": "stdout"
        }
      ]
    },
    {
      "cell_type": "markdown",
      "metadata": {
        "id": "hEM0GEQUuaL9"
      },
      "source": [
        "# Question 6\n",
        "6. Kannan stationery store saves the price details in the price dictionary details are as follwows.\n",
        "<center>PEN\t\t   10<br>\n",
        "                                                              NOTEBOOK              20<br>\n",
        "                                                                PENCIL                      5<br>\n",
        "                                                                SCALE                       10<br>\n",
        "                                                                STAPLER                  40<br>\n",
        "                                                                ERASER                    2<br>\n",
        "                                                                HIGHLIGHTER        15<br></center>\n",
        "Write a python program to solve the following task.<br>\n",
        "1    Read the list of items and the number of the item bought by the customer.<br>\n",
        "2    Compute the bill for the customer. <br>\n",
        "SAMPLE INPUT:<br>\n",
        "Enter the customer name: <br>\n",
        "Elango<br>\n",
        "Enter the list of item and number item bought by customers: <br>\n",
        "PEN 2, NOTEBOOK 4, STAPLER 2, HIGHLIGHTER 4<br>\n",
        "SAMPLE OUTPUT:<br>\n",
        "Name: Elango<br>\n",
        "<center>Item            \t Number of item            Price <br>\n",
        "PEN                       \t2                              20<br>\n",
        "NOTEBOOK        \t4                              80<br>\n",
        "STAPLER            \t2                              80<br>\n",
        "HIGHLIGHTER   \t4                              60<br></center>\n",
        "Total amount to be paid: 240\n"
      ]
    },
    {
      "cell_type": "code",
      "metadata": {
        "id": "NGa-WHcJubwp",
        "colab": {
          "base_uri": "https://localhost:8080/",
          "height": 118
        },
        "outputId": "6da288c9-6e9c-4dfd-a068-c4eeb3c7f1d0"
      },
      "source": [
        "\n",
        "price = {'pen':10,'note':20,'pencil':5,'scale':10,'eraser':2,'high':15}\n",
        "name = input(\"Enter customer name : \")\n",
        "item = input(\"Enter the item and quantity : \").split(',')\n",
        "tot=0;pay=0\n",
        "for i in item:\n",
        "  i=i.split(\" \")\n",
        "  quantity = int(i[1])\n",
        "  pay=price[i[0]]*quantity\n",
        "  print(i[0],'\\t',quantity,'\\t x',pay)\n",
        "  tot=tot+pay\n",
        "print(\"Price to pay = Rs.\",tot)\n"
      ],
      "execution_count": null,
      "outputs": [
        {
          "output_type": "stream",
          "text": [
            "Enter customer name : ram\n",
            "Enter the item and quantity : pen 2,note 5,pencil 3\n",
            "pen \t 2 \t x 20\n",
            "note \t 5 \t x 100\n",
            "pencil \t 3 \t x 15\n",
            "Price to pay = Rs. 135\n"
          ],
          "name": "stdout"
        }
      ]
    }
  ]
}